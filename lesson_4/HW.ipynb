{
 "cells": [
  {
   "cell_type": "code",
   "execution_count": 1,
   "id": "aaa7f0b7",
   "metadata": {
    "scrolled": false
   },
   "outputs": [],
   "source": [
    "import findspark\n",
    "findspark.init()\n",
    "findspark.find()\n",
    "\n",
    "from pyspark.sql import SparkSession\n",
    "from pyspark import SparkContext, SparkConf\n",
    "\n",
    "conf = SparkConf().set('spark.ui.port', '4050').set('spark.serializer', 'org.apache.spark.serializer.KryoSerializer')\\\n",
    "                  .set('spark.dynamicAllocation.enabled', 'true')\\\n",
    "                  .set('spark.shuffle.service.enabled', 'true')\n",
    "#                   .set('spark.driver.maxResultSize', '5G')\\\n",
    "#                   .set('spark.executor.memory', '1G')\\\n",
    "#                   .set('spark.driver.memory', '1G')\\\n",
    "                  \n",
    "\n",
    "sc = SparkContext(conf=conf)\n",
    "spark = SparkSession.builder.master('local[*]').getOrCreate()"
   ]
  },
  {
   "cell_type": "markdown",
   "id": "d1b75de8",
   "metadata": {},
   "source": [
    "Данные находятся в файле Train_Set_90621.csv\n",
    "Amount Defaulted - эту переменную нужно удалить=)\n",
    "\n",
    "    1) Начните с анализа баланса классов, пропусков, статистик при помощи DataFrame API\n",
    "    2) Посомтрите статистики, заполните пропуски при помощи уже MLlib\n",
    "    3) Соберите пайплайн, похожий на наш, где будет обработка данных, обучение моделей и все при помощи Spark\n",
    "    4) Разбейте данные на train/test + реализуйте подбор параметров одним из способов спарка\n",
    "    5) Cохраниет пайплайн на диск"
   ]
  },
  {
   "cell_type": "code",
   "execution_count": 2,
   "id": "4aa7f838",
   "metadata": {},
   "outputs": [],
   "source": [
    "from pyspark.sql.functions import col,isnan, when, count\n",
    "import pyspark.sql.functions as F\n",
    "from pyspark.ml.feature import StringIndexer, IndexToString, OneHotEncoder\n",
    "from pyspark.ml.feature import VectorAssembler\n",
    "from pyspark.ml.stat import Correlation\n",
    "from pyspark.ml.feature import QuantileDiscretizer\n",
    "from pyspark.ml.feature import Imputer\n",
    "from pyspark.ml import Pipeline\n",
    "from pyspark.ml.classification import LogisticRegression, DecisionTreeClassifier, RandomForestClassifier, GBTClassifier\n",
    "from pyspark.ml.tuning import ParamGridBuilder, TrainValidationSplit, CrossValidator\n",
    "from pyspark.ml.evaluation import BinaryClassificationEvaluator\n",
    "\n",
    "import numpy as np\n",
    "import matplotlib.pyplot as plt"
   ]
  },
  {
   "cell_type": "markdown",
   "id": "4023ae40",
   "metadata": {},
   "source": [
    "### Read data"
   ]
  },
  {
   "cell_type": "code",
   "execution_count": 51,
   "id": "7ba96c6a",
   "metadata": {},
   "outputs": [
    {
     "name": "stdout",
     "output_type": "stream",
     "text": [
      "root\n",
      " |-- Application ID: integer (nullable = true)\n",
      " |-- Bank Masked: string (nullable = true)\n",
      " |-- Bank Type: string (nullable = true)\n",
      " |-- Approved_Timestamp: string (nullable = true)\n",
      " |-- Name Masked: string (nullable = true)\n",
      " |-- Business Owner State: string (nullable = true)\n",
      " |-- Business_Industry_Type_Code: integer (nullable = true)\n",
      " |-- Approved_Year: integer (nullable = true)\n",
      " |-- New Business: integer (nullable = true)\n",
      " |-- Term: integer (nullable = true)\n",
      " |-- BankState: string (nullable = true)\n",
      " |-- Interest Rate: integer (nullable = true)\n",
      " |-- Employees: integer (nullable = true)\n",
      " |-- Gross Disbursed Amount: integer (nullable = true)\n",
      " |-- Term_years: integer (nullable = true)\n",
      " |-- Jobs Retained: integer (nullable = true)\n",
      " |-- Male to Female Employees Ratio: integer (nullable = true)\n",
      " |-- Expected Company Income: long (nullable = true)\n",
      " |-- Funds available with company: integer (nullable = true)\n",
      " |-- Gross_Apprv_Amount: integer (nullable = true)\n",
      " |-- Company Branch Code: integer (nullable = true)\n",
      " |-- City or Rural: integer (nullable = true)\n",
      " |-- Jobs Generated: integer (nullable = true)\n",
      " |-- Carry-forward Credit: string (nullable = true)\n",
      " |-- Documents Provided: string (nullable = true)\n",
      " |-- Balance Left: integer (nullable = true)\n",
      " |-- Final_Appved_Amount: integer (nullable = true)\n",
      " |-- target: integer (nullable = true)\n",
      "\n"
     ]
    }
   ],
   "source": [
    "data = spark.read.csv('Train_Set_90621.csv', header=True, inferSchema=True)\n",
    "data = data.drop('Amount Defaulted').withColumnRenamed('Default_Status', 'target')\n",
    "data.printSchema()"
   ]
  },
  {
   "cell_type": "code",
   "execution_count": 39,
   "id": "e3f56af6",
   "metadata": {
    "scrolled": true
   },
   "outputs": [
    {
     "name": "stdout",
     "output_type": "stream",
     "text": [
      "+--------------+---------------+---------+------------------+--------------------+--------------------+---------------------------+-------------+------------+----+-------------+-------------+---------+----------------------+----------+-------------+------------------------------+-----------------------+----------------------------+------------------+-------------------+-------------+--------------+--------------------+------------------+------------+-------------------+------+\n",
      "|Application ID|    Bank Masked|Bank Type|Approved_Timestamp|         Name Masked|Business Owner State|Business_Industry_Type_Code|Approved_Year|New Business|Term|    BankState|Interest Rate|Employees|Gross Disbursed Amount|Term_years|Jobs Retained|Male to Female Employees Ratio|Expected Company Income|Funds available with company|Gross_Apprv_Amount|Company Branch Code|City or Rural|Jobs Generated|Carry-forward Credit|Documents Provided|Balance Left|Final_Appved_Amount|target|\n",
      "+--------------+---------------+---------+------------------+--------------------+--------------------+---------------------------+-------------+------------+----+-------------+-------------+---------+----------------------+----------+-------------+------------------------------+-----------------------+----------------------------+------------------+-------------------+-------------+--------------+--------------------+------------------+------------+-------------------+------+\n",
      "|    1020200001|  Bank_Name_316|  Private|        12-10-2005| Business_Name_10007|       Uttar Pradesh|                     525161|         2005|           1| 219|Uttar Pradesh|            3|       42|              18550000|        18|           18|                             4|                3500000|                      780590|          18550000|              25650|            1|             3|                   N|                 N|           0|           13912500|     0|\n",
      "|    1020200002| Bank_Name_1062|     Govt|        21-11-2006|Business_Name_130906|       Uttar Pradesh|                       1231|         2006|           1|  71|Uttar Pradesh|            5|       20|               3045000|         6|           10|                            16|                1666667|                     1835637|           2450000|                  0|            1|             0|                   Y|                 N|           0|            1225000|     1|\n",
      "|    1020200003|   Bank_Name_39|  Private|        28-11-2007|Business_Name_105953|       Uttar Pradesh|                     322442|         2007|           2|  84|  Maharashtra|            8|       16|               1750000|         7|           10|                             8|                1333333|                     2373333|           1750000|                  0|            2|             2|                   Y|                 N|           0|            1487500|     0|\n",
      "|    1020200004|    Bank_Name_3|     Govt|        18-04-2009|Business_Name_103197|              Kerala|                       1231|         2009|           1| 300|        Delhi|            8|        4|              38850000|        25|            2|                             6|                 333333|                     2346786|          38850000|                  1|            1|             0|                   N|                 N|           0|           29137500|     0|\n",
      "|    1020200005|  Bank_Name_126|     Govt|        23-11-2002|Business_Name_118932|               Delhi|                       1231|         2002|           2| 153|  Maharashtra|           11|        4|               2800000|        13|            0|                             8|                 333333|                     2382995|           2800000|                  1|            2|             0|                   N|                 Y|           0|            2380000|     0|\n",
      "|    1020200006| Bank_Name_1281|  Private|        23-12-2009|Business_Name_135212|         Maharashtra|                     239391|         2009|           1|  84|  Maharashtra|            6|       10|              10500000|         7|            0|                            16|                 833333|                      392186|          10500000|                  1|            2|             0|                   N|                 Y|           0|            7875000|     0|\n",
      "|    1020200007|   Bank_Name_33|  Private|        04-10-2009| Business_Name_60742|               Delhi|                     423561|         2009|           2|  60|        Delhi|            6|        2|               2310000|         5|            0|                             9|                 166667|                     2496022|           2310000|                  1|            0|             0|                   N|                 Y|           0|            1848000|     0|\n",
      "|    1020200008|   Bank_Name_33|  Private|        03-03-2006| Business_Name_99424|       Uttar Pradesh|                     443530|         2006|           1|  60|        Delhi|            6|        6|               3500000|         5|            2|                             5|                 500000|                     1525676|           3500000|                  1|            0|             0|                   N|                 N|           0|            1750000|     0|\n",
      "|    1020200009|Bank_Name_12778|     Govt|        03-08-2017|Business_Name_146709|             Haryana|                       1231|         2017|           2|  73|      Haryana|            5|        2|               4900000|         6|            0|                            10|                 166667|                     2358557|           4900000|                  1|            0|             0|                   N|                 Y|           0|            3920000|     0|\n",
      "|    1020200010|   Bank_Name_17|  Private|        20-06-2017| Business_Name_17874|         Maharashtra|                     542341|         2017|           1| 120|        Delhi|           12|       60|              42000000|        10|            0|                            10|                5000000|                     1186740|          42000000|                  1|            0|             0|                   N|                 N|           0|           31500000|     0|\n",
      "|    1020200011|Bank_Number_346|     Govt|        05-09-2010| Business_Name_17760|       Uttar Pradesh|                       1230|         2010|           1| 303|Uttar Pradesh|            8|        8|               9800000|        25|            0|                            21|               33600000|                     1547232|           9800000|                  1|            0|             0|                   N|                 N|           0|            7350000|     1|\n",
      "|    1020200012|   Bank_Name_47|  Private|        15-09-2010| Business_Name_98384|             Haryana|                     813541|         2010|           1|  82|        Delhi|           11|        4|              19600000|         7|            0|                             4|                 333333|                      349235|          19600000|                  1|            2|             0|                   N|                 N|           0|           14700000|     0|\n",
      "|    1020200013| Bank_Number_93|     Govt|        29-03-2010| Business_Name_65515|               Delhi|                       1230|         2010|           1|  24|        Delhi|           11|        5|               7910000|         2|            0|                            33|               33000000|                      267120|           7910000|                  1|            0|             0|                   N|                 N|           0|            5932500|     0|\n",
      "|    1020200014|  Bank_Name_666|  Private|        18-09-2004| Business_Name_11879|         Maharashtra|                     625641|         2004|           1| 240|  Maharashtra|            8|       14|               6930000|        20|            4|                             3|                1166667|                     1323194|           6930000|                  1|            0|             3|                   N|                 N|           0|            6930000|     0|\n",
      "|    1020200015|    Bank_Name_3|  Private|        19-05-2011|Business_Name_130563|              Kerala|                     446541|         2011|           1|  37|       Kerala|            5|        2|               1750000|         3|            1|                             4|                 166667|                      833449|           1750000|                  1|            0|             3|                   N|                 N|           0|            1487500|     1|\n",
      "|    1020200016| Bank_Number_24|  Private|        13-12-2008| Business_Name_54437|       Uttar Pradesh|                       1230|         2008|           1| 286|Uttar Pradesh|           11|        4|              18970000|        24|            0|                            32|               25600000|                      698008|          18970000|                  1|            2|             0|                   N|                 N|           0|           14227500|     0|\n",
      "|    1020200017|   Bank_Name_11|  Private|        08-08-2005|Business_Name_128762|               Delhi|                     543091|         2005|           1|  84|        Delhi|            6|       10|               4544750|         7|            5|                             9|                 833333|                     2026719|           3150000|                  0|            1|             0|                   N|                 N|           0|            1575000|     0|\n",
      "|    1020200018|Bank_Name_36870|  Private|        25-03-2005|Business_Name_170801|         Maharashtra|                     448341|         2005|           1| 120|      Haryana|            6|       44|               5495000|        10|            0|                             5|                3666667|                     1152186|           5495000|                  1|            0|             0|                   N|                 Y|           0|            4396000|     0|\n",
      "|    1020200019|  Bank_Name_344|  Private|        09-10-2005| Business_Name_57125|             Haryana|                     723341|         2005|           1|  83|      Haryana|            4|       12|               5180000|         7|            0|                            14|                1000000|                      436454|           5180000|                  1|            2|             0|                   N|                 Y|           0|            4144000|     0|\n",
      "|    1020200020|Bank_Number_238|     Govt|        28-12-2010| Business_Name_34046|              Punjab|                     563220|         2010|           2|  60|       Punjab|            3|        4|               2800000|         5|            0|                            48|               19200000|                     1608192|           2800000|                  1|            0|             0|                   N|                 Y|           0|            2240000|     0|\n",
      "+--------------+---------------+---------+------------------+--------------------+--------------------+---------------------------+-------------+------------+----+-------------+-------------+---------+----------------------+----------+-------------+------------------------------+-----------------------+----------------------------+------------------+-------------------+-------------+--------------+--------------------+------------------+------------+-------------------+------+\n",
      "only showing top 20 rows\n",
      "\n"
     ]
    }
   ],
   "source": [
    "data.show()"
   ]
  },
  {
   "cell_type": "code",
   "execution_count": 4,
   "id": "3bf167f1",
   "metadata": {},
   "outputs": [
    {
     "name": "stdout",
     "output_type": "stream",
     "text": [
      "+--------------+-----------+---------+------------------+-----------+--------------------+---------------------------+-------------+------------+----+---------+-------------+---------+----------------------+----------+-------------+------------------------------+-----------------------+----------------------------+------------------+-------------------+-------------+--------------+--------------------+------------------+------------+-------------------+------+\n",
      "|Application ID|Bank Masked|Bank Type|Approved_Timestamp|Name Masked|Business Owner State|Business_Industry_Type_Code|Approved_Year|New Business|Term|BankState|Interest Rate|Employees|Gross Disbursed Amount|Term_years|Jobs Retained|Male to Female Employees Ratio|Expected Company Income|Funds available with company|Gross_Apprv_Amount|Company Branch Code|City or Rural|Jobs Generated|Carry-forward Credit|Documents Provided|Balance Left|Final_Appved_Amount|target|\n",
      "+--------------+-----------+---------+------------------+-----------+--------------------+---------------------------+-------------+------------+----+---------+-------------+---------+----------------------+----------+-------------+------------------------------+-----------------------+----------------------------+------------------+-------------------+-------------+--------------+--------------------+------------------+------------+-------------------+------+\n",
      "|             0|         80|       80|               426|          1|                   3|                          0|            0|          36|   0|       81|            0|        0|                     0|         0|            0|                             0|                      3|                           0|                 0|                  0|            0|             0|                 978|               552|           0|                  0|     0|\n",
      "+--------------+-----------+---------+------------------+-----------+--------------------+---------------------------+-------------+------------+----+---------+-------------+---------+----------------------+----------+-------------+------------------------------+-----------------------+----------------------------+------------------+-------------------+-------------+--------------+--------------------+------------------+------------+-------------------+------+\n",
      "\n"
     ]
    }
   ],
   "source": [
    "# check Nan\n",
    "data.select([count(when(isnan(c) | col(c).isNull(), c)).alias(c) for c in data.columns]).show()"
   ]
  },
  {
   "cell_type": "code",
   "execution_count": 5,
   "id": "c0d99761",
   "metadata": {},
   "outputs": [
    {
     "data": {
      "text/plain": [
       "195118"
      ]
     },
     "execution_count": 5,
     "metadata": {},
     "output_type": "execute_result"
    }
   ],
   "source": [
    "data.count()"
   ]
  },
  {
   "cell_type": "code",
   "execution_count": 6,
   "id": "82cf2be9",
   "metadata": {},
   "outputs": [
    {
     "name": "stdout",
     "output_type": "stream",
     "text": [
      "+--------------+-----+\n",
      "|Application ID|count|\n",
      "+--------------+-----+\n",
      "+--------------+-----+\n",
      "\n"
     ]
    }
   ],
   "source": [
    "# check application_id duplicates\n",
    "data.select(col('Application ID')).groupBy('Application ID').count().filter('count > 1').show()"
   ]
  },
  {
   "cell_type": "markdown",
   "id": "fae067a5",
   "metadata": {},
   "source": [
    "#### Fill Nans"
   ]
  },
  {
   "cell_type": "code",
   "execution_count": 21,
   "id": "8c4134dc",
   "metadata": {},
   "outputs": [
    {
     "name": "stdout",
     "output_type": "stream",
     "text": [
      "+--------------+------+\n",
      "|Jobs Generated| count|\n",
      "+--------------+------+\n",
      "|             0|136854|\n",
      "|             1| 13475|\n",
      "|             2| 12221|\n",
      "|             3|  6196|\n",
      "|             4|  4427|\n",
      "|             5|  4016|\n",
      "|            10|  2512|\n",
      "|             6|  2330|\n",
      "|             8|  1671|\n",
      "|             7|  1319|\n",
      "|            15|  1081|\n",
      "|            12|   954|\n",
      "|            20|   933|\n",
      "|             9|   749|\n",
      "|            25|   490|\n",
      "|            11|   465|\n",
      "|            30|   451|\n",
      "|            14|   421|\n",
      "|            13|   376|\n",
      "|            16|   362|\n",
      "+--------------+------+\n",
      "only showing top 20 rows\n",
      "\n"
     ]
    }
   ],
   "source": [
    "data.select(col('Jobs Generated')).groupBy('Jobs Generated').count().sort(col('count').desc()).show()"
   ]
  },
  {
   "cell_type": "code",
   "execution_count": 47,
   "id": "75076f4b",
   "metadata": {},
   "outputs": [],
   "source": [
    "data = data.fillna({'Bank Masked': 'Other', \n",
    "                    'Bank Type': 'Private', \n",
    "                    'Business Owner State': 'Delhi', \n",
    "                    'New Business': 1,\n",
    "                    'BankState': 'Delhi',\n",
    "                    'Carry-forward Credit': 'N',\n",
    "                    'Documents Provided': 'N'})\\\n",
    "            .withColumn(\"BankState\", when(col('BankState') == 0, 'Delhi').otherwise(col('BankState')))\\\n",
    "            .withColumn(\"New Business\", when(col('New Business') == 0, 2).otherwise(col('New Business')))"
   ]
  },
  {
   "cell_type": "code",
   "execution_count": 48,
   "id": "d2fdebce",
   "metadata": {
    "scrolled": true
   },
   "outputs": [
    {
     "data": {
      "text/plain": [
       "194691"
      ]
     },
     "execution_count": 48,
     "metadata": {},
     "output_type": "execute_result"
    }
   ],
   "source": [
    "# drop na for some cols\n",
    "drop_na_cols = ['Approved_Timestamp', 'Name Masked']\n",
    "\n",
    "data = data.dropna(subset=drop_na_cols)\n",
    "data.count()"
   ]
  },
  {
   "cell_type": "code",
   "execution_count": 49,
   "id": "42c7077d",
   "metadata": {},
   "outputs": [
    {
     "data": {
      "text/plain": [
       "194691"
      ]
     },
     "execution_count": 49,
     "metadata": {},
     "output_type": "execute_result"
    }
   ],
   "source": [
    "# fill na with mean for numeric cols\n",
    "fill_mean_cols = ['Expected Company Income']\n",
    "\n",
    "imputer = Imputer(inputCols=fill_mean_cols, outputCols=fill_mean_cols, strategy='mean')\n",
    "imputer = imputer.fit(data)\n",
    "data = imputer.transform(data)\n",
    "data.count()"
   ]
  },
  {
   "cell_type": "code",
   "execution_count": 11,
   "id": "5a54558c",
   "metadata": {
    "scrolled": true
   },
   "outputs": [
    {
     "name": "stdout",
     "output_type": "stream",
     "text": [
      "+--------------+-----------+---------+------------------+-----------+--------------------+---------------------------+-------------+------------+----+---------+-------------+---------+----------------------+----------+-------------+------------------------------+-----------------------+----------------------------+------------------+-------------------+-------------+--------------+--------------------+------------------+------------+-------------------+------+\n",
      "|Application ID|Bank Masked|Bank Type|Approved_Timestamp|Name Masked|Business Owner State|Business_Industry_Type_Code|Approved_Year|New Business|Term|BankState|Interest Rate|Employees|Gross Disbursed Amount|Term_years|Jobs Retained|Male to Female Employees Ratio|Expected Company Income|Funds available with company|Gross_Apprv_Amount|Company Branch Code|City or Rural|Jobs Generated|Carry-forward Credit|Documents Provided|Balance Left|Final_Appved_Amount|target|\n",
      "+--------------+-----------+---------+------------------+-----------+--------------------+---------------------------+-------------+------------+----+---------+-------------+---------+----------------------+----------+-------------+------------------------------+-----------------------+----------------------------+------------------+-------------------+-------------+--------------+--------------------+------------------+------------+-------------------+------+\n",
      "|             0|          0|        0|                 0|          0|                   0|                          0|            0|           0|   0|        0|            0|        0|                     0|         0|            0|                             0|                      0|                           0|                 0|                  0|            0|             0|                   0|                 0|           0|                  0|     0|\n",
      "+--------------+-----------+---------+------------------+-----------+--------------------+---------------------------+-------------+------------+----+---------+-------------+---------+----------------------+----------+-------------+------------------------------+-----------------------+----------------------------+------------------+-------------------+-------------+--------------+--------------------+------------------+------------+-------------------+------+\n",
      "\n"
     ]
    }
   ],
   "source": [
    "# check Nan again\n",
    "data.select([count(when(isnan(c) | col(c).isNull(), c)).alias(c) for c in data.columns]).show()"
   ]
  },
  {
   "cell_type": "markdown",
   "id": "5f9dd3ea",
   "metadata": {},
   "source": [
    "### Create feature column as vector"
   ]
  },
  {
   "cell_type": "code",
   "execution_count": 50,
   "id": "0f15eb98",
   "metadata": {
    "scrolled": true
   },
   "outputs": [
    {
     "ename": "Py4JJavaError",
     "evalue": "An error occurred while calling o1793.fit.\n: org.apache.spark.SparkException: Input column City or RuralCarry-forward Credit does not exist.\r\n\tat org.apache.spark.ml.feature.StringIndexerBase.$anonfun$validateAndTransformSchema$2(StringIndexer.scala:128)\r\n\tat scala.collection.TraversableLike.$anonfun$flatMap$1(TraversableLike.scala:293)\r\n\tat scala.collection.IndexedSeqOptimized.foreach(IndexedSeqOptimized.scala:36)\r\n\tat scala.collection.IndexedSeqOptimized.foreach$(IndexedSeqOptimized.scala:33)\r\n\tat scala.collection.mutable.ArrayOps$ofRef.foreach(ArrayOps.scala:198)\r\n\tat scala.collection.TraversableLike.flatMap(TraversableLike.scala:293)\r\n\tat scala.collection.TraversableLike.flatMap$(TraversableLike.scala:290)\r\n\tat scala.collection.mutable.ArrayOps$ofRef.flatMap(ArrayOps.scala:198)\r\n\tat org.apache.spark.ml.feature.StringIndexerBase.validateAndTransformSchema(StringIndexer.scala:123)\r\n\tat org.apache.spark.ml.feature.StringIndexerBase.validateAndTransformSchema$(StringIndexer.scala:115)\r\n\tat org.apache.spark.ml.feature.StringIndexer.validateAndTransformSchema(StringIndexer.scala:145)\r\n\tat org.apache.spark.ml.feature.StringIndexer.transformSchema(StringIndexer.scala:252)\r\n\tat org.apache.spark.ml.PipelineStage.transformSchema(Pipeline.scala:71)\r\n\tat org.apache.spark.ml.feature.StringIndexer.fit(StringIndexer.scala:237)\r\n\tat jdk.internal.reflect.GeneratedMethodAccessor202.invoke(Unknown Source)\r\n\tat java.base/jdk.internal.reflect.DelegatingMethodAccessorImpl.invoke(DelegatingMethodAccessorImpl.java:43)\r\n\tat java.base/java.lang.reflect.Method.invoke(Method.java:566)\r\n\tat py4j.reflection.MethodInvoker.invoke(MethodInvoker.java:244)\r\n\tat py4j.reflection.ReflectionEngine.invoke(ReflectionEngine.java:357)\r\n\tat py4j.Gateway.invoke(Gateway.java:282)\r\n\tat py4j.commands.AbstractCommand.invokeMethod(AbstractCommand.java:132)\r\n\tat py4j.commands.CallCommand.execute(CallCommand.java:79)\r\n\tat py4j.ClientServerConnection.waitForCommands(ClientServerConnection.java:182)\r\n\tat py4j.ClientServerConnection.run(ClientServerConnection.java:106)\r\n\tat java.base/java.lang.Thread.run(Thread.java:829)\r\n",
     "output_type": "error",
     "traceback": [
      "\u001b[1;31m---------------------------------------------------------------------------\u001b[0m",
      "\u001b[1;31mPy4JJavaError\u001b[0m                             Traceback (most recent call last)",
      "Cell \u001b[1;32mIn[50], line 12\u001b[0m\n\u001b[0;32m     10\u001b[0m \u001b[38;5;66;03m#     print(f\"{column}, {new_name}\")\u001b[39;00m\n\u001b[0;32m     11\u001b[0m     indexer \u001b[38;5;241m=\u001b[39m StringIndexer(inputCol \u001b[38;5;241m=\u001b[39m column, outputCol \u001b[38;5;241m=\u001b[39m new_name)\n\u001b[1;32m---> 12\u001b[0m     indexer \u001b[38;5;241m=\u001b[39m \u001b[43mindexer\u001b[49m\u001b[38;5;241;43m.\u001b[39;49m\u001b[43mfit\u001b[49m\u001b[43m(\u001b[49m\u001b[43mdata\u001b[49m\u001b[43m)\u001b[49m\n\u001b[0;32m     13\u001b[0m     data \u001b[38;5;241m=\u001b[39m indexer\u001b[38;5;241m.\u001b[39mtransform(data)\n\u001b[0;32m     14\u001b[0m     indexer_dict[new_name] \u001b[38;5;241m=\u001b[39m indexer\n",
      "File \u001b[1;32m~\\miniconda3\\envs\\gru_torch\\lib\\site-packages\\pyspark\\ml\\base.py:161\u001b[0m, in \u001b[0;36mEstimator.fit\u001b[1;34m(self, dataset, params)\u001b[0m\n\u001b[0;32m    159\u001b[0m         \u001b[38;5;28;01mreturn\u001b[39;00m \u001b[38;5;28mself\u001b[39m\u001b[38;5;241m.\u001b[39mcopy(params)\u001b[38;5;241m.\u001b[39m_fit(dataset)\n\u001b[0;32m    160\u001b[0m     \u001b[38;5;28;01melse\u001b[39;00m:\n\u001b[1;32m--> 161\u001b[0m         \u001b[38;5;28;01mreturn\u001b[39;00m \u001b[38;5;28;43mself\u001b[39;49m\u001b[38;5;241;43m.\u001b[39;49m\u001b[43m_fit\u001b[49m\u001b[43m(\u001b[49m\u001b[43mdataset\u001b[49m\u001b[43m)\u001b[49m\n\u001b[0;32m    162\u001b[0m \u001b[38;5;28;01melse\u001b[39;00m:\n\u001b[0;32m    163\u001b[0m     \u001b[38;5;28;01mraise\u001b[39;00m \u001b[38;5;167;01mTypeError\u001b[39;00m(\u001b[38;5;124m\"\u001b[39m\u001b[38;5;124mParams must be either a param map or a list/tuple of param maps, \u001b[39m\u001b[38;5;124m\"\u001b[39m\n\u001b[0;32m    164\u001b[0m                     \u001b[38;5;124m\"\u001b[39m\u001b[38;5;124mbut got \u001b[39m\u001b[38;5;132;01m%s\u001b[39;00m\u001b[38;5;124m.\u001b[39m\u001b[38;5;124m\"\u001b[39m \u001b[38;5;241m%\u001b[39m \u001b[38;5;28mtype\u001b[39m(params))\n",
      "File \u001b[1;32m~\\miniconda3\\envs\\gru_torch\\lib\\site-packages\\pyspark\\ml\\wrapper.py:335\u001b[0m, in \u001b[0;36mJavaEstimator._fit\u001b[1;34m(self, dataset)\u001b[0m\n\u001b[0;32m    334\u001b[0m \u001b[38;5;28;01mdef\u001b[39;00m \u001b[38;5;21m_fit\u001b[39m(\u001b[38;5;28mself\u001b[39m, dataset):\n\u001b[1;32m--> 335\u001b[0m     java_model \u001b[38;5;241m=\u001b[39m \u001b[38;5;28;43mself\u001b[39;49m\u001b[38;5;241;43m.\u001b[39;49m\u001b[43m_fit_java\u001b[49m\u001b[43m(\u001b[49m\u001b[43mdataset\u001b[49m\u001b[43m)\u001b[49m\n\u001b[0;32m    336\u001b[0m     model \u001b[38;5;241m=\u001b[39m \u001b[38;5;28mself\u001b[39m\u001b[38;5;241m.\u001b[39m_create_model(java_model)\n\u001b[0;32m    337\u001b[0m     \u001b[38;5;28;01mreturn\u001b[39;00m \u001b[38;5;28mself\u001b[39m\u001b[38;5;241m.\u001b[39m_copyValues(model)\n",
      "File \u001b[1;32m~\\miniconda3\\envs\\gru_torch\\lib\\site-packages\\pyspark\\ml\\wrapper.py:332\u001b[0m, in \u001b[0;36mJavaEstimator._fit_java\u001b[1;34m(self, dataset)\u001b[0m\n\u001b[0;32m    318\u001b[0m \u001b[38;5;124;03m\"\"\"\u001b[39;00m\n\u001b[0;32m    319\u001b[0m \u001b[38;5;124;03mFits a Java model to the input dataset.\u001b[39;00m\n\u001b[0;32m    320\u001b[0m \n\u001b[1;32m   (...)\u001b[0m\n\u001b[0;32m    329\u001b[0m \u001b[38;5;124;03m    fitted Java model\u001b[39;00m\n\u001b[0;32m    330\u001b[0m \u001b[38;5;124;03m\"\"\"\u001b[39;00m\n\u001b[0;32m    331\u001b[0m \u001b[38;5;28mself\u001b[39m\u001b[38;5;241m.\u001b[39m_transfer_params_to_java()\n\u001b[1;32m--> 332\u001b[0m \u001b[38;5;28;01mreturn\u001b[39;00m \u001b[38;5;28;43mself\u001b[39;49m\u001b[38;5;241;43m.\u001b[39;49m\u001b[43m_java_obj\u001b[49m\u001b[38;5;241;43m.\u001b[39;49m\u001b[43mfit\u001b[49m\u001b[43m(\u001b[49m\u001b[43mdataset\u001b[49m\u001b[38;5;241;43m.\u001b[39;49m\u001b[43m_jdf\u001b[49m\u001b[43m)\u001b[49m\n",
      "File \u001b[1;32m~\\miniconda3\\envs\\gru_torch\\lib\\site-packages\\py4j\\java_gateway.py:1321\u001b[0m, in \u001b[0;36mJavaMember.__call__\u001b[1;34m(self, *args)\u001b[0m\n\u001b[0;32m   1315\u001b[0m command \u001b[38;5;241m=\u001b[39m proto\u001b[38;5;241m.\u001b[39mCALL_COMMAND_NAME \u001b[38;5;241m+\u001b[39m\\\n\u001b[0;32m   1316\u001b[0m     \u001b[38;5;28mself\u001b[39m\u001b[38;5;241m.\u001b[39mcommand_header \u001b[38;5;241m+\u001b[39m\\\n\u001b[0;32m   1317\u001b[0m     args_command \u001b[38;5;241m+\u001b[39m\\\n\u001b[0;32m   1318\u001b[0m     proto\u001b[38;5;241m.\u001b[39mEND_COMMAND_PART\n\u001b[0;32m   1320\u001b[0m answer \u001b[38;5;241m=\u001b[39m \u001b[38;5;28mself\u001b[39m\u001b[38;5;241m.\u001b[39mgateway_client\u001b[38;5;241m.\u001b[39msend_command(command)\n\u001b[1;32m-> 1321\u001b[0m return_value \u001b[38;5;241m=\u001b[39m \u001b[43mget_return_value\u001b[49m\u001b[43m(\u001b[49m\n\u001b[0;32m   1322\u001b[0m \u001b[43m    \u001b[49m\u001b[43manswer\u001b[49m\u001b[43m,\u001b[49m\u001b[43m \u001b[49m\u001b[38;5;28;43mself\u001b[39;49m\u001b[38;5;241;43m.\u001b[39;49m\u001b[43mgateway_client\u001b[49m\u001b[43m,\u001b[49m\u001b[43m \u001b[49m\u001b[38;5;28;43mself\u001b[39;49m\u001b[38;5;241;43m.\u001b[39;49m\u001b[43mtarget_id\u001b[49m\u001b[43m,\u001b[49m\u001b[43m \u001b[49m\u001b[38;5;28;43mself\u001b[39;49m\u001b[38;5;241;43m.\u001b[39;49m\u001b[43mname\u001b[49m\u001b[43m)\u001b[49m\n\u001b[0;32m   1324\u001b[0m \u001b[38;5;28;01mfor\u001b[39;00m temp_arg \u001b[38;5;129;01min\u001b[39;00m temp_args:\n\u001b[0;32m   1325\u001b[0m     temp_arg\u001b[38;5;241m.\u001b[39m_detach()\n",
      "File \u001b[1;32m~\\miniconda3\\envs\\gru_torch\\lib\\site-packages\\pyspark\\sql\\utils.py:111\u001b[0m, in \u001b[0;36mcapture_sql_exception.<locals>.deco\u001b[1;34m(*a, **kw)\u001b[0m\n\u001b[0;32m    109\u001b[0m \u001b[38;5;28;01mdef\u001b[39;00m \u001b[38;5;21mdeco\u001b[39m(\u001b[38;5;241m*\u001b[39ma, \u001b[38;5;241m*\u001b[39m\u001b[38;5;241m*\u001b[39mkw):\n\u001b[0;32m    110\u001b[0m     \u001b[38;5;28;01mtry\u001b[39;00m:\n\u001b[1;32m--> 111\u001b[0m         \u001b[38;5;28;01mreturn\u001b[39;00m f(\u001b[38;5;241m*\u001b[39ma, \u001b[38;5;241m*\u001b[39m\u001b[38;5;241m*\u001b[39mkw)\n\u001b[0;32m    112\u001b[0m     \u001b[38;5;28;01mexcept\u001b[39;00m py4j\u001b[38;5;241m.\u001b[39mprotocol\u001b[38;5;241m.\u001b[39mPy4JJavaError \u001b[38;5;28;01mas\u001b[39;00m e:\n\u001b[0;32m    113\u001b[0m         converted \u001b[38;5;241m=\u001b[39m convert_exception(e\u001b[38;5;241m.\u001b[39mjava_exception)\n",
      "File \u001b[1;32m~\\miniconda3\\envs\\gru_torch\\lib\\site-packages\\py4j\\protocol.py:326\u001b[0m, in \u001b[0;36mget_return_value\u001b[1;34m(answer, gateway_client, target_id, name)\u001b[0m\n\u001b[0;32m    324\u001b[0m value \u001b[38;5;241m=\u001b[39m OUTPUT_CONVERTER[\u001b[38;5;28mtype\u001b[39m](answer[\u001b[38;5;241m2\u001b[39m:], gateway_client)\n\u001b[0;32m    325\u001b[0m \u001b[38;5;28;01mif\u001b[39;00m answer[\u001b[38;5;241m1\u001b[39m] \u001b[38;5;241m==\u001b[39m REFERENCE_TYPE:\n\u001b[1;32m--> 326\u001b[0m     \u001b[38;5;28;01mraise\u001b[39;00m Py4JJavaError(\n\u001b[0;32m    327\u001b[0m         \u001b[38;5;124m\"\u001b[39m\u001b[38;5;124mAn error occurred while calling \u001b[39m\u001b[38;5;132;01m{0}\u001b[39;00m\u001b[38;5;132;01m{1}\u001b[39;00m\u001b[38;5;132;01m{2}\u001b[39;00m\u001b[38;5;124m.\u001b[39m\u001b[38;5;130;01m\\n\u001b[39;00m\u001b[38;5;124m\"\u001b[39m\u001b[38;5;241m.\u001b[39m\n\u001b[0;32m    328\u001b[0m         \u001b[38;5;28mformat\u001b[39m(target_id, \u001b[38;5;124m\"\u001b[39m\u001b[38;5;124m.\u001b[39m\u001b[38;5;124m\"\u001b[39m, name), value)\n\u001b[0;32m    329\u001b[0m \u001b[38;5;28;01melse\u001b[39;00m:\n\u001b[0;32m    330\u001b[0m     \u001b[38;5;28;01mraise\u001b[39;00m Py4JError(\n\u001b[0;32m    331\u001b[0m         \u001b[38;5;124m\"\u001b[39m\u001b[38;5;124mAn error occurred while calling \u001b[39m\u001b[38;5;132;01m{0}\u001b[39;00m\u001b[38;5;132;01m{1}\u001b[39;00m\u001b[38;5;132;01m{2}\u001b[39;00m\u001b[38;5;124m. Trace:\u001b[39m\u001b[38;5;130;01m\\n\u001b[39;00m\u001b[38;5;132;01m{3}\u001b[39;00m\u001b[38;5;130;01m\\n\u001b[39;00m\u001b[38;5;124m\"\u001b[39m\u001b[38;5;241m.\u001b[39m\n\u001b[0;32m    332\u001b[0m         \u001b[38;5;28mformat\u001b[39m(target_id, \u001b[38;5;124m\"\u001b[39m\u001b[38;5;124m.\u001b[39m\u001b[38;5;124m\"\u001b[39m, name, value))\n",
      "\u001b[1;31mPy4JJavaError\u001b[0m: An error occurred while calling o1793.fit.\n: org.apache.spark.SparkException: Input column City or RuralCarry-forward Credit does not exist.\r\n\tat org.apache.spark.ml.feature.StringIndexerBase.$anonfun$validateAndTransformSchema$2(StringIndexer.scala:128)\r\n\tat scala.collection.TraversableLike.$anonfun$flatMap$1(TraversableLike.scala:293)\r\n\tat scala.collection.IndexedSeqOptimized.foreach(IndexedSeqOptimized.scala:36)\r\n\tat scala.collection.IndexedSeqOptimized.foreach$(IndexedSeqOptimized.scala:33)\r\n\tat scala.collection.mutable.ArrayOps$ofRef.foreach(ArrayOps.scala:198)\r\n\tat scala.collection.TraversableLike.flatMap(TraversableLike.scala:293)\r\n\tat scala.collection.TraversableLike.flatMap$(TraversableLike.scala:290)\r\n\tat scala.collection.mutable.ArrayOps$ofRef.flatMap(ArrayOps.scala:198)\r\n\tat org.apache.spark.ml.feature.StringIndexerBase.validateAndTransformSchema(StringIndexer.scala:123)\r\n\tat org.apache.spark.ml.feature.StringIndexerBase.validateAndTransformSchema$(StringIndexer.scala:115)\r\n\tat org.apache.spark.ml.feature.StringIndexer.validateAndTransformSchema(StringIndexer.scala:145)\r\n\tat org.apache.spark.ml.feature.StringIndexer.transformSchema(StringIndexer.scala:252)\r\n\tat org.apache.spark.ml.PipelineStage.transformSchema(Pipeline.scala:71)\r\n\tat org.apache.spark.ml.feature.StringIndexer.fit(StringIndexer.scala:237)\r\n\tat jdk.internal.reflect.GeneratedMethodAccessor202.invoke(Unknown Source)\r\n\tat java.base/jdk.internal.reflect.DelegatingMethodAccessorImpl.invoke(DelegatingMethodAccessorImpl.java:43)\r\n\tat java.base/java.lang.reflect.Method.invoke(Method.java:566)\r\n\tat py4j.reflection.MethodInvoker.invoke(MethodInvoker.java:244)\r\n\tat py4j.reflection.ReflectionEngine.invoke(ReflectionEngine.java:357)\r\n\tat py4j.Gateway.invoke(Gateway.java:282)\r\n\tat py4j.commands.AbstractCommand.invokeMethod(AbstractCommand.java:132)\r\n\tat py4j.commands.CallCommand.execute(CallCommand.java:79)\r\n\tat py4j.ClientServerConnection.waitForCommands(ClientServerConnection.java:182)\r\n\tat py4j.ClientServerConnection.run(ClientServerConnection.java:106)\r\n\tat java.base/java.lang.Thread.run(Thread.java:829)\r\n"
     ]
    }
   ],
   "source": [
    "index_cols = ['Bank Masked', 'Bank Type', 'Name Masked', \n",
    "              'Business Owner State', 'Business_Industry_Type_Code', 'New Business', \n",
    "              'BankState', 'Company Branch Code', 'City or Rural',\n",
    "              'Carry-forward Credit', 'Documents Provided']\n",
    "\n",
    "indexer_dict = {}\n",
    "\n",
    "for column in index_cols:\n",
    "    new_name = column.replace(\" \", \"_\")+'_index'\n",
    "#     print(f\"{column}, {new_name}\")\n",
    "    indexer = StringIndexer(inputCol = column, outputCol = new_name)\n",
    "    indexer = indexer.fit(data)\n",
    "    data = indexer.transform(data)\n",
    "    indexer_dict[new_name] = indexer"
   ]
  },
  {
   "cell_type": "code",
   "execution_count": 35,
   "id": "6e963471",
   "metadata": {},
   "outputs": [
    {
     "name": "stdout",
     "output_type": "stream",
     "text": [
      "+------------------+-------------+--------------+-------------------+------------------+--------------------+--------------------+-----------------------+-----------------------+----------------------+----------------------+\n",
      "|Approved_Timestamp|Approved_year|Approved_month|Approved_dayofmonth|Approved_dayofweek|  cos_approved_month|  sin_approved_month|cos_approved_dayofmonth|sin_approved_dayofmonth|cos_approved_dayofweek|sin_approved_dayofweek|\n",
      "+------------------+-------------+--------------+-------------------+------------------+--------------------+--------------------+-----------------------+-----------------------+----------------------+----------------------+\n",
      "|        2005-10-12|         2005|            10|                 12|                 4|  0.5000000000000001| -0.8660254037844386|    -0.7587581226927909|     0.6513724827222223|   -0.9009688679024191|    -0.433883739117558|\n",
      "|        2006-11-21|         2006|            11|                 21|                 3|  0.8660254037844384| -0.5000000000000004|   -0.44039415155763423|    -0.8978045395707417|    -0.900968867902419|   0.43388373911755823|\n",
      "|        2007-11-28|         2007|            11|                 28|                 4|  0.8660254037844384| -0.5000000000000004|     0.8207634412072763|    -0.5712682150947924|   -0.9009688679024191|    -0.433883739117558|\n",
      "|        2009-04-18|         2009|             4|                 18|                 7| -0.4999999999999998|  0.8660254037844387|    -0.8743466161445822|    -0.4853019625310808|                   1.0|  -2.44929359829470...|\n",
      "|        2002-11-23|         2002|            11|                 23|                 7|  0.8660254037844384| -0.5000000000000004|   -0.05064916883871355|    -0.9987165071710528|                   1.0|  -2.44929359829470...|\n",
      "|        2009-12-23|         2009|            12|                 23|                 4|                 1.0|-2.44929359829470...|   -0.05064916883871355|    -0.9987165071710528|   -0.9009688679024191|    -0.433883739117558|\n",
      "|        2009-10-04|         2009|            10|                  4|                 1|  0.5000000000000001| -0.8660254037844386|     0.6889669190756866|     0.7247927872291199|    0.6234898018587336|    0.7818314824680298|\n",
      "|        2006-03-03|         2006|             3|                  3|                 6|6.123233995736766...|                 1.0|     0.8207634412072763|     0.5712682150947923|    0.6234898018587334|   -0.7818314824680299|\n",
      "|        2017-08-03|         2017|             8|                  3|                 5| -0.5000000000000004| -0.8660254037844384|     0.8207634412072763|     0.5712682150947923|   -0.2225209339563146|   -0.9749279121818236|\n",
      "|        2017-06-20|         2017|             6|                 20|                 3|                -1.0|1.224646799147353...|    -0.6121059825476627|    -0.7907757369376986|    -0.900968867902419|   0.43388373911755823|\n",
      "|        2010-09-05|         2010|             9|                  5|                 1|-1.83697019872102...|                -1.0|     0.5289640103269624|     0.8486442574947509|    0.6234898018587336|    0.7818314824680298|\n",
      "|        2010-09-15|         2010|             9|                 15|                 4|-1.83697019872102...|                -1.0|     -0.994869323391895|    0.10116832198743272|   -0.9009688679024191|    -0.433883739117558|\n",
      "|        2010-03-29|         2010|             3|                 29|                 2|6.123233995736766...|                 1.0|     0.9189578116202306|    -0.3943558551133187|  -0.22252093395631434|    0.9749279121818236|\n",
      "|        2004-09-18|         2004|             9|                 18|                 7|-1.83697019872102...|                -1.0|    -0.8743466161445822|    -0.4853019625310808|                   1.0|  -2.44929359829470...|\n",
      "|        2011-05-19|         2011|             5|                 19|                 5| -0.8660254037844387| 0.49999999999999994|    -0.7587581226927911|     -0.651372482722222|   -0.2225209339563146|   -0.9749279121818236|\n",
      "|        2008-12-13|         2008|            12|                 13|                 7|                 1.0|-2.44929359829470...|    -0.8743466161445821|    0.48530196253108104|                   1.0|  -2.44929359829470...|\n",
      "|        2005-08-08|         2005|             8|                  8|                 2| -0.5000000000000004| -0.8660254037844384|   -0.05064916883871264|     0.9987165071710528|  -0.22252093395631434|    0.9749279121818236|\n",
      "|        2005-03-25|         2005|             3|                 25|                 6|6.123233995736766...|                 1.0|     0.3473052528448203|    -0.9377521321470804|    0.6234898018587334|   -0.7818314824680299|\n",
      "|        2005-10-09|         2005|            10|                  9|                 1|  0.5000000000000001| -0.8660254037844386|    -0.2506525322587204|     0.9680771188662043|    0.6234898018587336|    0.7818314824680298|\n",
      "|        2010-12-28|         2010|            12|                 28|                 3|                 1.0|-2.44929359829470...|     0.8207634412072763|    -0.5712682150947924|    -0.900968867902419|   0.43388373911755823|\n",
      "+------------------+-------------+--------------+-------------------+------------------+--------------------+--------------------+-----------------------+-----------------------+----------------------+----------------------+\n",
      "only showing top 20 rows\n",
      "\n"
     ]
    }
   ],
   "source": [
    "# create sin/cos features from datetime col\n",
    "data = data.withColumn('Approved_Timestamp', F.to_date(col(\"Approved_Timestamp\"),\"dd-MM-yyyy\"))\\\n",
    "    .withColumn('Approved_year', F.year('Approved_Timestamp'))\\\n",
    "    .withColumn('Approved_month', F.month('Approved_Timestamp'))\\\n",
    "    .withColumn('Approved_dayofmonth', F.dayofmonth('Approved_Timestamp'))\\\n",
    "    .withColumn('Approved_dayofweek', F.dayofweek('Approved_Timestamp'))\\\n",
    "    .withColumn('cos_approved_month', F.cos(F.col('Approved_month') * 2 * np.pi / 12.))\\\n",
    "    .withColumn('sin_approved_month', F.sin(F.col('Approved_month') * 2 * np.pi / 12.))\\\n",
    "    .withColumn('cos_approved_dayofmonth', F.cos(F.col('Approved_dayofmonth') * 2 * np.pi / 31.))\\\n",
    "    .withColumn('sin_approved_dayofmonth', F.sin(F.col('Approved_dayofmonth') * 2 * np.pi / 31.))\\\n",
    "    .withColumn('cos_approved_dayofweek', F.cos(F.col('Approved_dayofweek') * 2 * np.pi / 7.))\\\n",
    "    .withColumn('sin_approved_dayofweek', F.sin(F.col('Approved_dayofweek') * 2 * np.pi / 7.))"
   ]
  },
  {
   "cell_type": "code",
   "execution_count": null,
   "id": "f7ed8fe8",
   "metadata": {},
   "outputs": [],
   "source": [
    "ohe_encoder = OneHotEncoder(inputCols = list(indexer_dict.keys()),\n",
    "                        outputCols = [col[:-6]+'_vec' for col in list(indexer_dict.keys())])\n",
    "ohe_encoder = ohe_encoder.fit(data)\n",
    "data = ohe_encoder.transform(data)"
   ]
  },
  {
   "cell_type": "code",
   "execution_count": 61,
   "id": "3652b643",
   "metadata": {},
   "outputs": [
    {
     "name": "stdout",
     "output_type": "stream",
     "text": [
      "+---------------+-----------------+--------------------+\n",
      "|    Bank Masked|Bank_Masked_index|     Bank_Masked_vec|\n",
      "+---------------+-----------------+--------------------+\n",
      "|  Bank_Name_316|           1260.0|(42528,[1260],[1.0])|\n",
      "| Bank_Name_1062|            563.0| (42528,[563],[1.0])|\n",
      "|   Bank_Name_39|             21.0|  (42528,[21],[1.0])|\n",
      "|    Bank_Name_3|              1.0|   (42528,[1],[1.0])|\n",
      "|  Bank_Name_126|             33.0|  (42528,[33],[1.0])|\n",
      "| Bank_Name_1281|           1419.0|(42528,[1419],[1.0])|\n",
      "|   Bank_Name_33|             10.0|  (42528,[10],[1.0])|\n",
      "|   Bank_Name_33|             10.0|  (42528,[10],[1.0])|\n",
      "|Bank_Name_12778|           7154.0|(42528,[7154],[1.0])|\n",
      "|   Bank_Name_17|              5.0|   (42528,[5],[1.0])|\n",
      "|Bank_Number_346|            186.0| (42528,[186],[1.0])|\n",
      "|   Bank_Name_47|             24.0|  (42528,[24],[1.0])|\n",
      "| Bank_Number_93|             50.0|  (42528,[50],[1.0])|\n",
      "|  Bank_Name_666|            248.0| (42528,[248],[1.0])|\n",
      "|    Bank_Name_3|              1.0|   (42528,[1],[1.0])|\n",
      "| Bank_Number_24|             13.0|  (42528,[13],[1.0])|\n",
      "|   Bank_Name_11|              3.0|   (42528,[3],[1.0])|\n",
      "|Bank_Name_36870|          24571.0|(42528,[24571],[1...|\n",
      "|  Bank_Name_344|            110.0| (42528,[110],[1.0])|\n",
      "|Bank_Number_238|           4978.0|(42528,[4978],[1.0])|\n",
      "+---------------+-----------------+--------------------+\n",
      "only showing top 20 rows\n",
      "\n"
     ]
    }
   ],
   "source": [
    "data.select('Bank Masked', 'Bank_Masked_index', 'Bank_Masked_vec').show()"
   ]
  },
  {
   "cell_type": "code",
   "execution_count": 86,
   "id": "4e930d57",
   "metadata": {},
   "outputs": [],
   "source": [
    "# assemble features in vector format\n",
    "feature_columns = ['Approved_year', 'Term', 'Interest Rate', 'Employees', 'Gross Disbursed Amount', \n",
    "                   'Term_years', 'Jobs Retained', 'Male to Female Employees Ratio', 'Expected Company Income', \n",
    "                   'Funds available with company', 'Gross_Apprv_Amount', 'Jobs Generated', 'Balance Left', 'Final_Appved_Amount']\\\n",
    "                    + ['cos_approved_month', 'sin_approved_month', \n",
    "                       'cos_approved_dayofmonth', 'sin_approved_dayofmonth', \n",
    "                       'cos_approved_dayofweek', 'sin_approved_dayofweek']\\\n",
    "                    + vect_columns\n",
    "\n",
    "df_va = VectorAssembler(inputCols = feature_columns, outputCol = 'features')\n",
    "data = df_va.transform(data)"
   ]
  },
  {
   "cell_type": "code",
   "execution_count": 83,
   "id": "a703de46",
   "metadata": {},
   "outputs": [
    {
     "data": {
      "text/plain": [
       "31"
      ]
     },
     "execution_count": 83,
     "metadata": {},
     "output_type": "execute_result"
    }
   ],
   "source": [
    "# total features\n",
    "len(feature_columns)"
   ]
  },
  {
   "cell_type": "code",
   "execution_count": 87,
   "id": "204fc355",
   "metadata": {},
   "outputs": [
    {
     "name": "stdout",
     "output_type": "stream",
     "text": [
      "+--------------+---------------+---------+------------------+--------------------+--------------------+---------------------------+-------------+------------+----+-------------+-------------+---------+----------------------+----------+-------------+------------------------------+-----------------------+----------------------------+------------------+-------------------+-------------+--------------+--------------------+------------------+------------+-------------------+------+--------------+-------------------+------------------+--------------------+--------------------+-----------------------+-----------------------+----------------------+----------------------+-----------------+---------------+-----------------+--------------------------+---------------------------------+------------------+---------------+-------------------------+-------------------+--------------------------+------------------------+--------------------+-------------+--------------------+------------------------+-------------------------------+----------------+--------------+-----------------------+-----------------+------------------------+----------------------+--------------------+\n",
      "|Application ID|    Bank Masked|Bank Type|Approved_Timestamp|         Name Masked|Business Owner State|Business_Industry_Type_Code|Approved_year|New Business|Term|    BankState|Interest Rate|Employees|Gross Disbursed Amount|Term_years|Jobs Retained|Male to Female Employees Ratio|Expected Company Income|Funds available with company|Gross_Apprv_Amount|Company Branch Code|City or Rural|Jobs Generated|Carry-forward Credit|Documents Provided|Balance Left|Final_Appved_Amount|target|Approved_month|Approved_dayofmonth|Approved_dayofweek|  cos_approved_month|  sin_approved_month|cos_approved_dayofmonth|sin_approved_dayofmonth|cos_approved_dayofweek|sin_approved_dayofweek|Bank_Masked_index|Bank_Type_index|Name_Masked_index|Business_Owner_State_index|Business_Industry_Type_Code_index|New_Business_index|BankState_index|Company_Branch_Code_index|City_or_Rural_index|Carry-forward_Credit_index|Documents_Provided_index|     Bank_Masked_vec|Bank_Type_vec|     Name_Masked_vec|Business_Owner_State_vec|Business_Industry_Type_Code_vec|New_Business_vec| BankState_vec|Company_Branch_Code_vec|City_or_Rural_vec|Carry-forward_Credit_vec|Documents_Provided_vec|            features|\n",
      "+--------------+---------------+---------+------------------+--------------------+--------------------+---------------------------+-------------+------------+----+-------------+-------------+---------+----------------------+----------+-------------+------------------------------+-----------------------+----------------------------+------------------+-------------------+-------------+--------------+--------------------+------------------+------------+-------------------+------+--------------+-------------------+------------------+--------------------+--------------------+-----------------------+-----------------------+----------------------+----------------------+-----------------+---------------+-----------------+--------------------------+---------------------------------+------------------+---------------+-------------------------+-------------------+--------------------------+------------------------+--------------------+-------------+--------------------+------------------------+-------------------------------+----------------+--------------+-----------------------+-----------------+------------------------+----------------------+--------------------+\n",
      "|    1020200001|  Bank_Name_316|  Private|        2005-10-12| Business_Name_10007|       Uttar Pradesh|                     525161|         2005|           1| 219|Uttar Pradesh|            3|       42|              18550000|        18|           18|                             4|                3500000|                      780590|          18550000|              25650|            1|             3|                   N|                 N|           0|           13912500|     0|            10|                 12|                 4|  0.5000000000000001| -0.8660254037844386|    -0.7587581226927909|     0.6513724827222223|   -0.9009688679024191|    -0.433883739117558|           1260.0|            0.0|            768.0|                       3.0|                            239.0|               0.0|            3.0|                      6.0|                0.0|                       0.0|                     0.0|(42528,[1260],[1.0])|(1,[0],[1.0])|(150402,[768],[1.0])|           (9,[3],[1.0])|             (2074,[239],[1.0])|   (1,[0],[1.0])|(10,[3],[1.0])|       (1633,[6],[1.0])|    (2,[0],[1.0])|           (1,[0],[1.0])|         (1,[0],[1.0])|(196682,[0,1,2,3,...|\n",
      "|    1020200002| Bank_Name_1062|     Govt|        2006-11-21|Business_Name_130906|       Uttar Pradesh|                       1231|         2006|           1|  71|Uttar Pradesh|            5|       20|               3045000|         6|           10|                            16|                1666667|                     1835637|           2450000|                  0|            1|             0|                   Y|                 N|           0|            1225000|     1|            11|                 21|                 3|  0.8660254037844384| -0.5000000000000004|   -0.44039415155763423|    -0.8978045395707417|    -0.900968867902419|   0.43388373911755823|            563.0|            1.0|          65746.0|                       3.0|                              0.0|               0.0|            3.0|                      1.0|                0.0|                       1.0|                     0.0| (42528,[563],[1.0])|    (1,[],[])|(150402,[65746],[...|           (9,[3],[1.0])|               (2074,[0],[1.0])|   (1,[0],[1.0])|(10,[3],[1.0])|       (1633,[1],[1.0])|    (2,[0],[1.0])|               (1,[],[])|         (1,[0],[1.0])|(196682,[0,1,2,3,...|\n",
      "|    1020200003|   Bank_Name_39|  Private|        2007-11-28|Business_Name_105953|       Uttar Pradesh|                     322442|         2007|           2|  84|  Maharashtra|            8|       16|               1750000|         7|           10|                             8|                1333333|                     2373333|           1750000|                  0|            2|             2|                   Y|                 N|           0|            1487500|     0|            11|                 28|                 4|  0.8660254037844384| -0.5000000000000004|     0.8207634412072763|    -0.5712682150947924|   -0.9009688679024191|    -0.433883739117558|             21.0|            0.0|          47047.0|                       3.0|                           1014.0|               1.0|            1.0|                      1.0|                2.0|                       1.0|                     0.0|  (42528,[21],[1.0])|(1,[0],[1.0])|(150402,[47047],[...|           (9,[3],[1.0])|            (2074,[1014],[1.0])|       (1,[],[])|(10,[1],[1.0])|       (1633,[1],[1.0])|        (2,[],[])|               (1,[],[])|         (1,[0],[1.0])|(196682,[0,1,2,3,...|\n",
      "|    1020200004|    Bank_Name_3|     Govt|        2009-04-18|Business_Name_103197|              Kerala|                       1231|         2009|           1| 300|        Delhi|            8|        4|              38850000|        25|            2|                             6|                 333333|                     2346786|          38850000|                  1|            1|             0|                   N|                 N|           0|           29137500|     0|             4|                 18|                 7| -0.4999999999999998|  0.8660254037844387|    -0.8743466161445822|    -0.4853019625310808|                   1.0|  -2.44929359829470...|              1.0|            1.0|          44998.0|                       9.0|                              0.0|               0.0|            0.0|                      0.0|                0.0|                       0.0|                     0.0|   (42528,[1],[1.0])|    (1,[],[])|(150402,[44998],[...|               (9,[],[])|               (2074,[0],[1.0])|   (1,[0],[1.0])|(10,[0],[1.0])|       (1633,[0],[1.0])|    (2,[0],[1.0])|           (1,[0],[1.0])|         (1,[0],[1.0])|(196682,[0,1,2,3,...|\n",
      "|    1020200005|  Bank_Name_126|     Govt|        2002-11-23|Business_Name_118932|               Delhi|                       1231|         2002|           2| 153|  Maharashtra|           11|        4|               2800000|        13|            0|                             8|                 333333|                     2382995|           2800000|                  1|            2|             0|                   N|                 Y|           0|            2380000|     0|            11|                 23|                 7|  0.8660254037844384| -0.5000000000000004|   -0.05064916883871355|    -0.9987165071710528|                   1.0|  -2.44929359829470...|             33.0|            1.0|          56761.0|                       0.0|                              0.0|               1.0|            1.0|                      0.0|                2.0|                       0.0|                     1.0|  (42528,[33],[1.0])|    (1,[],[])|(150402,[56761],[...|           (9,[0],[1.0])|               (2074,[0],[1.0])|       (1,[],[])|(10,[1],[1.0])|       (1633,[0],[1.0])|        (2,[],[])|           (1,[0],[1.0])|             (1,[],[])|(196682,[0,1,2,3,...|\n",
      "|    1020200006| Bank_Name_1281|  Private|        2009-12-23|Business_Name_135212|         Maharashtra|                     239391|         2009|           1|  84|  Maharashtra|            6|       10|              10500000|         7|            0|                            16|                 833333|                      392186|          10500000|                  1|            2|             0|                   N|                 Y|           0|            7875000|     0|            12|                 23|                 4|                 1.0|-2.44929359829470...|   -0.05064916883871355|    -0.9987165071710528|   -0.9009688679024191|    -0.433883739117558|           1419.0|            0.0|          68935.0|                       2.0|                            257.0|               0.0|            1.0|                      0.0|                2.0|                       0.0|                     1.0|(42528,[1419],[1.0])|(1,[0],[1.0])|(150402,[68935],[...|           (9,[2],[1.0])|             (2074,[257],[1.0])|   (1,[0],[1.0])|(10,[1],[1.0])|       (1633,[0],[1.0])|        (2,[],[])|           (1,[0],[1.0])|             (1,[],[])|(196682,[0,1,2,3,...|\n",
      "|    1020200007|   Bank_Name_33|  Private|        2009-10-04| Business_Name_60742|               Delhi|                     423561|         2009|           2|  60|        Delhi|            6|        2|               2310000|         5|            0|                             9|                 166667|                     2496022|           2310000|                  1|            0|             0|                   N|                 Y|           0|            1848000|     0|            10|                  4|                 1|  0.5000000000000001| -0.8660254037844386|     0.6889669190756866|     0.7247927872291199|    0.6234898018587336|    0.7818314824680298|             10.0|            0.0|          27804.0|                       0.0|                            334.0|               1.0|            0.0|                      0.0|                1.0|                       0.0|                     1.0|  (42528,[10],[1.0])|(1,[0],[1.0])|(150402,[27804],[...|           (9,[0],[1.0])|             (2074,[334],[1.0])|       (1,[],[])|(10,[0],[1.0])|       (1633,[0],[1.0])|    (2,[1],[1.0])|           (1,[0],[1.0])|             (1,[],[])|(196682,[0,1,2,3,...|\n",
      "|    1020200008|   Bank_Name_33|  Private|        2006-03-03| Business_Name_99424|       Uttar Pradesh|                     443530|         2006|           1|  60|        Delhi|            6|        6|               3500000|         5|            2|                             5|                 500000|                     1525676|           3500000|                  1|            0|             0|                   N|                 N|           0|            1750000|     0|             3|                  3|                 6|6.123233995736766...|                 1.0|     0.8207634412072763|     0.5712682150947923|    0.6234898018587334|   -0.7818314824680299|             10.0|            0.0|         149974.0|                       3.0|                            154.0|               0.0|            0.0|                      0.0|                1.0|                       0.0|                     0.0|  (42528,[10],[1.0])|(1,[0],[1.0])|(150402,[149974],...|           (9,[3],[1.0])|             (2074,[154],[1.0])|   (1,[0],[1.0])|(10,[0],[1.0])|       (1633,[0],[1.0])|    (2,[1],[1.0])|           (1,[0],[1.0])|         (1,[0],[1.0])|(196682,[0,1,2,3,...|\n",
      "|    1020200009|Bank_Name_12778|     Govt|        2017-08-03|Business_Name_146709|             Haryana|                       1231|         2017|           2|  73|      Haryana|            5|        2|               4900000|         6|            0|                            10|                 166667|                     2358557|           4900000|                  1|            0|             0|                   N|                 Y|           0|            3920000|     0|             8|                  3|                 5| -0.5000000000000004| -0.8660254037844384|     0.8207634412072763|     0.5712682150947923|   -0.2225209339563146|   -0.9749279121818236|           7154.0|            1.0|          77478.0|                       1.0|                              0.0|               1.0|            2.0|                      0.0|                1.0|                       0.0|                     1.0|(42528,[7154],[1.0])|    (1,[],[])|(150402,[77478],[...|           (9,[1],[1.0])|               (2074,[0],[1.0])|       (1,[],[])|(10,[2],[1.0])|       (1633,[0],[1.0])|    (2,[1],[1.0])|           (1,[0],[1.0])|             (1,[],[])|(196682,[0,1,2,3,...|\n",
      "|    1020200010|   Bank_Name_17|  Private|        2017-06-20| Business_Name_17874|         Maharashtra|                     542341|         2017|           1| 120|        Delhi|           12|       60|              42000000|        10|            0|                            10|                5000000|                     1186740|          42000000|                  1|            0|             0|                   N|                 N|           0|           31500000|     0|             6|                 20|                 3|                -1.0|1.224646799147353...|    -0.6121059825476627|    -0.7907757369376986|    -0.900968867902419|   0.43388373911755823|              5.0|            0.0|           4923.0|                       2.0|                             17.0|               0.0|            0.0|                      0.0|                1.0|                       0.0|                     0.0|   (42528,[5],[1.0])|(1,[0],[1.0])|(150402,[4923],[1...|           (9,[2],[1.0])|              (2074,[17],[1.0])|   (1,[0],[1.0])|(10,[0],[1.0])|       (1633,[0],[1.0])|    (2,[1],[1.0])|           (1,[0],[1.0])|         (1,[0],[1.0])|(196682,[0,1,2,3,...|\n",
      "|    1020200011|Bank_Number_346|     Govt|        2010-09-05| Business_Name_17760|       Uttar Pradesh|                       1230|         2010|           1| 303|Uttar Pradesh|            8|        8|               9800000|        25|            0|                            21|               33600000|                     1547232|           9800000|                  1|            0|             0|                   N|                 N|           0|            7350000|     1|             9|                  5|                 1|-1.83697019872102...|                -1.0|     0.5289640103269624|     0.8486442574947509|    0.6234898018587336|    0.7818314824680298|            186.0|            1.0|            307.0|                       3.0|                              1.0|               0.0|            3.0|                      0.0|                1.0|                       0.0|                     0.0| (42528,[186],[1.0])|    (1,[],[])|(150402,[307],[1.0])|           (9,[3],[1.0])|               (2074,[1],[1.0])|   (1,[0],[1.0])|(10,[3],[1.0])|       (1633,[0],[1.0])|    (2,[1],[1.0])|           (1,[0],[1.0])|         (1,[0],[1.0])|(196682,[0,1,2,3,...|\n",
      "|    1020200012|   Bank_Name_47|  Private|        2010-09-15| Business_Name_98384|             Haryana|                     813541|         2010|           1|  82|        Delhi|           11|        4|              19600000|         7|            0|                             4|                 333333|                      349235|          19600000|                  1|            2|             0|                   N|                 N|           0|           14700000|     0|             9|                 15|                 4|-1.83697019872102...|                -1.0|     -0.994869323391895|    0.10116832198743272|   -0.9009688679024191|    -0.433883739117558|             24.0|            0.0|         149211.0|                       1.0|                             43.0|               0.0|            0.0|                      0.0|                2.0|                       0.0|                     0.0|  (42528,[24],[1.0])|(1,[0],[1.0])|(150402,[149211],...|           (9,[1],[1.0])|              (2074,[43],[1.0])|   (1,[0],[1.0])|(10,[0],[1.0])|       (1633,[0],[1.0])|        (2,[],[])|           (1,[0],[1.0])|         (1,[0],[1.0])|(196682,[0,1,2,3,...|\n",
      "|    1020200013| Bank_Number_93|     Govt|        2010-03-29| Business_Name_65515|               Delhi|                       1230|         2010|           1|  24|        Delhi|           11|        5|               7910000|         2|            0|                            33|               33000000|                      267120|           7910000|                  1|            0|             0|                   N|                 N|           0|            5932500|     0|             3|                 29|                 2|6.123233995736766...|                 1.0|     0.9189578116202306|    -0.3943558551133187|  -0.22252093395631434|    0.9749279121818236|             50.0|            1.0|         130629.0|                       0.0|                              1.0|               0.0|            0.0|                      0.0|                1.0|                       0.0|                     0.0|  (42528,[50],[1.0])|    (1,[],[])|(150402,[130629],...|           (9,[0],[1.0])|               (2074,[1],[1.0])|   (1,[0],[1.0])|(10,[0],[1.0])|       (1633,[0],[1.0])|    (2,[1],[1.0])|           (1,[0],[1.0])|         (1,[0],[1.0])|(196682,[0,1,2,3,...|\n",
      "|    1020200014|  Bank_Name_666|  Private|        2004-09-18| Business_Name_11879|         Maharashtra|                     625641|         2004|           1| 240|  Maharashtra|            8|       14|               6930000|        20|            4|                             3|                1166667|                     1323194|           6930000|                  1|            0|             3|                   N|                 N|           0|            6930000|     0|             9|                 18|                 7|-1.83697019872102...|                -1.0|    -0.8743466161445822|    -0.4853019625310808|                   1.0|  -2.44929359829470...|            248.0|            0.0|           1767.0|                       2.0|                              8.0|               0.0|            1.0|                      0.0|                1.0|                       0.0|                     0.0| (42528,[248],[1.0])|(1,[0],[1.0])|(150402,[1767],[1...|           (9,[2],[1.0])|               (2074,[8],[1.0])|   (1,[0],[1.0])|(10,[1],[1.0])|       (1633,[0],[1.0])|    (2,[1],[1.0])|           (1,[0],[1.0])|         (1,[0],[1.0])|(196682,[0,1,2,3,...|\n",
      "|    1020200015|    Bank_Name_3|  Private|        2011-05-19|Business_Name_130563|              Kerala|                     446541|         2011|           1|  37|       Kerala|            5|        2|               1750000|         3|            1|                             4|                 166667|                      833449|           1750000|                  1|            0|             3|                   N|                 N|           0|            1487500|     1|             5|                 19|                 5| -0.8660254037844387| 0.49999999999999994|    -0.7587581226927911|     -0.651372482722222|   -0.2225209339563146|   -0.9749279121818236|              1.0|            0.0|          65481.0|                       9.0|                             16.0|               0.0|            9.0|                      0.0|                1.0|                       0.0|                     0.0|   (42528,[1],[1.0])|(1,[0],[1.0])|(150402,[65481],[...|               (9,[],[])|              (2074,[16],[1.0])|   (1,[0],[1.0])|(10,[9],[1.0])|       (1633,[0],[1.0])|    (2,[1],[1.0])|           (1,[0],[1.0])|         (1,[0],[1.0])|(196682,[0,1,2,3,...|\n",
      "|    1020200016| Bank_Number_24|  Private|        2008-12-13| Business_Name_54437|       Uttar Pradesh|                       1230|         2008|           1| 286|Uttar Pradesh|           11|        4|              18970000|        24|            0|                            32|               25600000|                      698008|          18970000|                  1|            2|             0|                   N|                 N|           0|           14227500|     0|            12|                 13|                 7|                 1.0|-2.44929359829470...|    -0.8743466161445821|    0.48530196253108104|                   1.0|  -2.44929359829470...|             13.0|            0.0|          24456.0|                       3.0|                              1.0|               0.0|            3.0|                      0.0|                2.0|                       0.0|                     0.0|  (42528,[13],[1.0])|(1,[0],[1.0])|(150402,[24456],[...|           (9,[3],[1.0])|               (2074,[1],[1.0])|   (1,[0],[1.0])|(10,[3],[1.0])|       (1633,[0],[1.0])|        (2,[],[])|           (1,[0],[1.0])|         (1,[0],[1.0])|(196682,[0,1,2,3,...|\n",
      "|    1020200017|   Bank_Name_11|  Private|        2005-08-08|Business_Name_128762|               Delhi|                     543091|         2005|           1|  84|        Delhi|            6|       10|               4544750|         7|            5|                             9|                 833333|                     2026719|           3150000|                  0|            1|             0|                   N|                 N|           0|            1575000|     0|             8|                  8|                 2| -0.5000000000000004| -0.8660254037844384|   -0.05064916883871264|     0.9987165071710528|  -0.22252093395631434|    0.9749279121818236|              3.0|            0.0|          64135.0|                       0.0|                            542.0|               0.0|            0.0|                      1.0|                0.0|                       0.0|                     0.0|   (42528,[3],[1.0])|(1,[0],[1.0])|(150402,[64135],[...|           (9,[0],[1.0])|             (2074,[542],[1.0])|   (1,[0],[1.0])|(10,[0],[1.0])|       (1633,[1],[1.0])|    (2,[0],[1.0])|           (1,[0],[1.0])|         (1,[0],[1.0])|(196682,[0,1,2,3,...|\n",
      "|    1020200018|Bank_Name_36870|  Private|        2005-03-25|Business_Name_170801|         Maharashtra|                     448341|         2005|           1| 120|      Haryana|            6|       44|               5495000|        10|            0|                             5|                3666667|                     1152186|           5495000|                  1|            0|             0|                   N|                 Y|           0|            4396000|     0|             3|                 25|                 6|6.123233995736766...|                 1.0|     0.3473052528448203|    -0.9377521321470804|    0.6234898018587334|   -0.7818314824680299|          24571.0|            0.0|          95471.0|                       2.0|                             21.0|               0.0|            2.0|                      0.0|                1.0|                       0.0|                     1.0|(42528,[24571],[1...|(1,[0],[1.0])|(150402,[95471],[...|           (9,[2],[1.0])|              (2074,[21],[1.0])|   (1,[0],[1.0])|(10,[2],[1.0])|       (1633,[0],[1.0])|    (2,[1],[1.0])|           (1,[0],[1.0])|             (1,[],[])|(196682,[0,1,2,3,...|\n",
      "|    1020200019|  Bank_Name_344|  Private|        2005-10-09| Business_Name_57125|             Haryana|                     723341|         2005|           1|  83|      Haryana|            4|       12|               5180000|         7|            0|                            14|                1000000|                      436454|           5180000|                  1|            2|             0|                   N|                 Y|           0|            4144000|     0|            10|                  9|                 1|  0.5000000000000001| -0.8660254037844386|    -0.2506525322587204|     0.9680771188662043|    0.6234898018587336|    0.7818314824680298|            110.0|            0.0|         126728.0|                       1.0|                              2.0|               0.0|            2.0|                      0.0|                2.0|                       0.0|                     1.0| (42528,[110],[1.0])|(1,[0],[1.0])|(150402,[126728],...|           (9,[1],[1.0])|               (2074,[2],[1.0])|   (1,[0],[1.0])|(10,[2],[1.0])|       (1633,[0],[1.0])|        (2,[],[])|           (1,[0],[1.0])|             (1,[],[])|(196682,[0,1,2,3,...|\n",
      "|    1020200020|Bank_Number_238|     Govt|        2010-12-28| Business_Name_34046|              Punjab|                     563220|         2010|           2|  60|       Punjab|            3|        4|               2800000|         5|            0|                            48|               19200000|                     1608192|           2800000|                  1|            0|             0|                   N|                 Y|           0|            2240000|     0|            12|                 28|                 3|                 1.0|-2.44929359829470...|     0.8207634412072763|    -0.5712682150947924|    -0.900968867902419|   0.43388373911755823|           4978.0|            1.0|            471.0|                       8.0|                            256.0|               1.0|            8.0|                      0.0|                1.0|                       0.0|                     1.0|(42528,[4978],[1.0])|    (1,[],[])|(150402,[471],[1.0])|           (9,[8],[1.0])|             (2074,[256],[1.0])|       (1,[],[])|(10,[8],[1.0])|       (1633,[0],[1.0])|    (2,[1],[1.0])|           (1,[0],[1.0])|             (1,[],[])|(196682,[0,1,2,3,...|\n",
      "+--------------+---------------+---------+------------------+--------------------+--------------------+---------------------------+-------------+------------+----+-------------+-------------+---------+----------------------+----------+-------------+------------------------------+-----------------------+----------------------------+------------------+-------------------+-------------+--------------+--------------------+------------------+------------+-------------------+------+--------------+-------------------+------------------+--------------------+--------------------+-----------------------+-----------------------+----------------------+----------------------+-----------------+---------------+-----------------+--------------------------+---------------------------------+------------------+---------------+-------------------------+-------------------+--------------------------+------------------------+--------------------+-------------+--------------------+------------------------+-------------------------------+----------------+--------------+-----------------------+-----------------+------------------------+----------------------+--------------------+\n",
      "only showing top 20 rows\n",
      "\n"
     ]
    }
   ],
   "source": [
    "data.show()"
   ]
  },
  {
   "cell_type": "code",
   "execution_count": 91,
   "id": "991d1507",
   "metadata": {},
   "outputs": [],
   "source": [
    "# train/test split\n",
    "train, test = data.randomSplit([0.7, 0.3], seed=135468)"
   ]
  },
  {
   "cell_type": "markdown",
   "id": "e7232e74",
   "metadata": {},
   "source": [
    "## Some models"
   ]
  },
  {
   "cell_type": "code",
   "execution_count": 5,
   "id": "379a9d9f",
   "metadata": {
    "scrolled": true
   },
   "outputs": [
    {
     "name": "stderr",
     "output_type": "stream",
     "text": [
      "ERROR:root:Exception while sending command.\n",
      "Traceback (most recent call last):\n",
      "  File \"C:\\Users\\Mr Rozum\\miniconda3\\envs\\gru_torch\\lib\\site-packages\\IPython\\core\\interactiveshell.py\", line 3460, in run_code\n",
      "    exec(code_obj, self.user_global_ns, self.user_ns)\n",
      "  File \"C:\\Users\\Mr Rozum\\AppData\\Local\\Temp\\ipykernel_26540\\3793522769.py\", line 4, in <module>\n",
      "    lrModel = lrModel.fit(test)\n",
      "  File \"C:\\Users\\Mr Rozum\\miniconda3\\envs\\gru_torch\\lib\\site-packages\\pyspark\\ml\\base.py\", line 161, in fit\n",
      "    return self._fit(dataset)\n",
      "  File \"C:\\Users\\Mr Rozum\\miniconda3\\envs\\gru_torch\\lib\\site-packages\\pyspark\\ml\\wrapper.py\", line 335, in _fit\n",
      "    java_model = self._fit_java(dataset)\n",
      "  File \"C:\\Users\\Mr Rozum\\miniconda3\\envs\\gru_torch\\lib\\site-packages\\pyspark\\ml\\wrapper.py\", line 332, in _fit_java\n",
      "    return self._java_obj.fit(dataset._jdf)\n",
      "  File \"C:\\Users\\Mr Rozum\\miniconda3\\envs\\gru_torch\\lib\\site-packages\\py4j\\java_gateway.py\", line 1321, in __call__\n",
      "    return_value = get_return_value(\n",
      "  File \"C:\\Users\\Mr Rozum\\miniconda3\\envs\\gru_torch\\lib\\site-packages\\pyspark\\sql\\utils.py\", line 111, in deco\n",
      "    return f(*a, **kw)\n",
      "  File \"C:\\Users\\Mr Rozum\\miniconda3\\envs\\gru_torch\\lib\\site-packages\\py4j\\protocol.py\", line 326, in get_return_value\n",
      "    raise Py4JJavaError(\n",
      "py4j.protocol.Py4JJavaError: <unprintable Py4JJavaError object>\n",
      "\n",
      "During handling of the above exception, another exception occurred:\n",
      "\n",
      "Traceback (most recent call last):\n",
      "  File \"C:\\Users\\Mr Rozum\\miniconda3\\envs\\gru_torch\\lib\\site-packages\\py4j\\clientserver.py\", line 475, in send_command\n",
      "    answer = smart_decode(self.stream.readline()[:-1])\n",
      "  File \"C:\\Users\\Mr Rozum\\miniconda3\\envs\\gru_torch\\lib\\socket.py\", line 705, in readinto\n",
      "    return self._sock.recv_into(b)\n",
      "ConnectionResetError: [WinError 10054] Удаленный хост принудительно разорвал существующее подключение\n",
      "\n",
      "During handling of the above exception, another exception occurred:\n",
      "\n",
      "Traceback (most recent call last):\n",
      "  File \"C:\\Users\\Mr Rozum\\miniconda3\\envs\\gru_torch\\lib\\site-packages\\py4j\\java_gateway.py\", line 1038, in send_command\n",
      "    response = connection.send_command(command)\n",
      "  File \"C:\\Users\\Mr Rozum\\miniconda3\\envs\\gru_torch\\lib\\site-packages\\py4j\\clientserver.py\", line 503, in send_command\n",
      "    raise Py4JNetworkError(\n",
      "py4j.protocol.Py4JNetworkError: Error while sending or receiving\n"
     ]
    },
    {
     "ename": "ConnectionRefusedError",
     "evalue": "[WinError 10061] Подключение не установлено, т.к. конечный компьютер отверг запрос на подключение",
     "output_type": "error",
     "traceback": [
      "\u001b[1;31m---------------------------------------------------------------------------\u001b[0m",
      "\u001b[1;31mPy4JJavaError\u001b[0m                             Traceback (most recent call last)",
      "    \u001b[1;31m[... skipping hidden 1 frame]\u001b[0m\n",
      "Cell \u001b[1;32mIn[5], line 4\u001b[0m\n\u001b[0;32m      1\u001b[0m lrModel \u001b[38;5;241m=\u001b[39m LogisticRegression(featuresCol\u001b[38;5;241m=\u001b[39m\u001b[38;5;124m'\u001b[39m\u001b[38;5;124mfeatures\u001b[39m\u001b[38;5;124m'\u001b[39m, labelCol\u001b[38;5;241m=\u001b[39m\u001b[38;5;124m'\u001b[39m\u001b[38;5;124mtarget\u001b[39m\u001b[38;5;124m'\u001b[39m, predictionCol\u001b[38;5;241m=\u001b[39m\u001b[38;5;124m'\u001b[39m\u001b[38;5;124mprediction\u001b[39m\u001b[38;5;124m'\u001b[39m,\n\u001b[0;32m      2\u001b[0m                         maxIter\u001b[38;5;241m=\u001b[39m\u001b[38;5;241m10\u001b[39m, probabilityCol\u001b[38;5;241m=\u001b[39m\u001b[38;5;124m'\u001b[39m\u001b[38;5;124mproba\u001b[39m\u001b[38;5;124m'\u001b[39m)\n\u001b[1;32m----> 4\u001b[0m lrModel \u001b[38;5;241m=\u001b[39m \u001b[43mlrModel\u001b[49m\u001b[38;5;241;43m.\u001b[39;49m\u001b[43mfit\u001b[49m\u001b[43m(\u001b[49m\u001b[43mtest\u001b[49m\u001b[43m)\u001b[49m\n",
      "File \u001b[1;32m~\\miniconda3\\envs\\gru_torch\\lib\\site-packages\\pyspark\\ml\\base.py:161\u001b[0m, in \u001b[0;36mEstimator.fit\u001b[1;34m(self, dataset, params)\u001b[0m\n\u001b[0;32m    160\u001b[0m     \u001b[38;5;28;01melse\u001b[39;00m:\n\u001b[1;32m--> 161\u001b[0m         \u001b[38;5;28;01mreturn\u001b[39;00m \u001b[38;5;28;43mself\u001b[39;49m\u001b[38;5;241;43m.\u001b[39;49m\u001b[43m_fit\u001b[49m\u001b[43m(\u001b[49m\u001b[43mdataset\u001b[49m\u001b[43m)\u001b[49m\n\u001b[0;32m    162\u001b[0m \u001b[38;5;28;01melse\u001b[39;00m:\n",
      "File \u001b[1;32m~\\miniconda3\\envs\\gru_torch\\lib\\site-packages\\pyspark\\ml\\wrapper.py:335\u001b[0m, in \u001b[0;36mJavaEstimator._fit\u001b[1;34m(self, dataset)\u001b[0m\n\u001b[0;32m    334\u001b[0m \u001b[38;5;28;01mdef\u001b[39;00m \u001b[38;5;21m_fit\u001b[39m(\u001b[38;5;28mself\u001b[39m, dataset):\n\u001b[1;32m--> 335\u001b[0m     java_model \u001b[38;5;241m=\u001b[39m \u001b[38;5;28;43mself\u001b[39;49m\u001b[38;5;241;43m.\u001b[39;49m\u001b[43m_fit_java\u001b[49m\u001b[43m(\u001b[49m\u001b[43mdataset\u001b[49m\u001b[43m)\u001b[49m\n\u001b[0;32m    336\u001b[0m     model \u001b[38;5;241m=\u001b[39m \u001b[38;5;28mself\u001b[39m\u001b[38;5;241m.\u001b[39m_create_model(java_model)\n",
      "File \u001b[1;32m~\\miniconda3\\envs\\gru_torch\\lib\\site-packages\\pyspark\\ml\\wrapper.py:332\u001b[0m, in \u001b[0;36mJavaEstimator._fit_java\u001b[1;34m(self, dataset)\u001b[0m\n\u001b[0;32m    331\u001b[0m \u001b[38;5;28mself\u001b[39m\u001b[38;5;241m.\u001b[39m_transfer_params_to_java()\n\u001b[1;32m--> 332\u001b[0m \u001b[38;5;28;01mreturn\u001b[39;00m \u001b[38;5;28;43mself\u001b[39;49m\u001b[38;5;241;43m.\u001b[39;49m\u001b[43m_java_obj\u001b[49m\u001b[38;5;241;43m.\u001b[39;49m\u001b[43mfit\u001b[49m\u001b[43m(\u001b[49m\u001b[43mdataset\u001b[49m\u001b[38;5;241;43m.\u001b[39;49m\u001b[43m_jdf\u001b[49m\u001b[43m)\u001b[49m\n",
      "File \u001b[1;32m~\\miniconda3\\envs\\gru_torch\\lib\\site-packages\\py4j\\java_gateway.py:1321\u001b[0m, in \u001b[0;36mJavaMember.__call__\u001b[1;34m(self, *args)\u001b[0m\n\u001b[0;32m   1320\u001b[0m answer \u001b[38;5;241m=\u001b[39m \u001b[38;5;28mself\u001b[39m\u001b[38;5;241m.\u001b[39mgateway_client\u001b[38;5;241m.\u001b[39msend_command(command)\n\u001b[1;32m-> 1321\u001b[0m return_value \u001b[38;5;241m=\u001b[39m \u001b[43mget_return_value\u001b[49m\u001b[43m(\u001b[49m\n\u001b[0;32m   1322\u001b[0m \u001b[43m    \u001b[49m\u001b[43manswer\u001b[49m\u001b[43m,\u001b[49m\u001b[43m \u001b[49m\u001b[38;5;28;43mself\u001b[39;49m\u001b[38;5;241;43m.\u001b[39;49m\u001b[43mgateway_client\u001b[49m\u001b[43m,\u001b[49m\u001b[43m \u001b[49m\u001b[38;5;28;43mself\u001b[39;49m\u001b[38;5;241;43m.\u001b[39;49m\u001b[43mtarget_id\u001b[49m\u001b[43m,\u001b[49m\u001b[43m \u001b[49m\u001b[38;5;28;43mself\u001b[39;49m\u001b[38;5;241;43m.\u001b[39;49m\u001b[43mname\u001b[49m\u001b[43m)\u001b[49m\n\u001b[0;32m   1324\u001b[0m \u001b[38;5;28;01mfor\u001b[39;00m temp_arg \u001b[38;5;129;01min\u001b[39;00m temp_args:\n",
      "File \u001b[1;32m~\\miniconda3\\envs\\gru_torch\\lib\\site-packages\\pyspark\\sql\\utils.py:111\u001b[0m, in \u001b[0;36mcapture_sql_exception.<locals>.deco\u001b[1;34m(*a, **kw)\u001b[0m\n\u001b[0;32m    110\u001b[0m \u001b[38;5;28;01mtry\u001b[39;00m:\n\u001b[1;32m--> 111\u001b[0m     \u001b[38;5;28;01mreturn\u001b[39;00m f(\u001b[38;5;241m*\u001b[39ma, \u001b[38;5;241m*\u001b[39m\u001b[38;5;241m*\u001b[39mkw)\n\u001b[0;32m    112\u001b[0m \u001b[38;5;28;01mexcept\u001b[39;00m py4j\u001b[38;5;241m.\u001b[39mprotocol\u001b[38;5;241m.\u001b[39mPy4JJavaError \u001b[38;5;28;01mas\u001b[39;00m e:\n",
      "File \u001b[1;32m~\\miniconda3\\envs\\gru_torch\\lib\\site-packages\\py4j\\protocol.py:326\u001b[0m, in \u001b[0;36mget_return_value\u001b[1;34m(answer, gateway_client, target_id, name)\u001b[0m\n\u001b[0;32m    325\u001b[0m \u001b[38;5;28;01mif\u001b[39;00m answer[\u001b[38;5;241m1\u001b[39m] \u001b[38;5;241m==\u001b[39m REFERENCE_TYPE:\n\u001b[1;32m--> 326\u001b[0m     \u001b[38;5;28;01mraise\u001b[39;00m Py4JJavaError(\n\u001b[0;32m    327\u001b[0m         \u001b[38;5;124m\"\u001b[39m\u001b[38;5;124mAn error occurred while calling \u001b[39m\u001b[38;5;132;01m{0}\u001b[39;00m\u001b[38;5;132;01m{1}\u001b[39;00m\u001b[38;5;132;01m{2}\u001b[39;00m\u001b[38;5;124m.\u001b[39m\u001b[38;5;130;01m\\n\u001b[39;00m\u001b[38;5;124m\"\u001b[39m\u001b[38;5;241m.\u001b[39m\n\u001b[0;32m    328\u001b[0m         \u001b[38;5;28mformat\u001b[39m(target_id, \u001b[38;5;124m\"\u001b[39m\u001b[38;5;124m.\u001b[39m\u001b[38;5;124m\"\u001b[39m, name), value)\n\u001b[0;32m    329\u001b[0m \u001b[38;5;28;01melse\u001b[39;00m:\n",
      "\u001b[1;31m<class 'str'>\u001b[0m: (<class 'ConnectionRefusedError'>, ConnectionRefusedError(10061, 'Подключение не установлено, т.к. конечный компьютер отверг запрос на подключение', None, 10061, None))",
      "\nDuring handling of the above exception, another exception occurred:\n",
      "\u001b[1;31mConnectionRefusedError\u001b[0m                    Traceback (most recent call last)",
      "    \u001b[1;31m[... skipping hidden 1 frame]\u001b[0m\n",
      "File \u001b[1;32m~\\miniconda3\\envs\\gru_torch\\lib\\site-packages\\IPython\\core\\interactiveshell.py:2068\u001b[0m, in \u001b[0;36mInteractiveShell.showtraceback\u001b[1;34m(self, exc_tuple, filename, tb_offset, exception_only, running_compiled_code)\u001b[0m\n\u001b[0;32m   2065\u001b[0m     traceback\u001b[38;5;241m.\u001b[39mprint_exc()\n\u001b[0;32m   2066\u001b[0m     \u001b[38;5;28;01mreturn\u001b[39;00m \u001b[38;5;28;01mNone\u001b[39;00m\n\u001b[1;32m-> 2068\u001b[0m \u001b[38;5;28;43mself\u001b[39;49m\u001b[38;5;241;43m.\u001b[39;49m\u001b[43m_showtraceback\u001b[49m\u001b[43m(\u001b[49m\u001b[43metype\u001b[49m\u001b[43m,\u001b[49m\u001b[43m \u001b[49m\u001b[43mvalue\u001b[49m\u001b[43m,\u001b[49m\u001b[43m \u001b[49m\u001b[43mstb\u001b[49m\u001b[43m)\u001b[49m\n\u001b[0;32m   2069\u001b[0m \u001b[38;5;28;01mif\u001b[39;00m \u001b[38;5;28mself\u001b[39m\u001b[38;5;241m.\u001b[39mcall_pdb:\n\u001b[0;32m   2070\u001b[0m     \u001b[38;5;66;03m# drop into debugger\u001b[39;00m\n\u001b[0;32m   2071\u001b[0m     \u001b[38;5;28mself\u001b[39m\u001b[38;5;241m.\u001b[39mdebugger(force\u001b[38;5;241m=\u001b[39m\u001b[38;5;28;01mTrue\u001b[39;00m)\n",
      "File \u001b[1;32m~\\miniconda3\\envs\\gru_torch\\lib\\site-packages\\ipykernel\\zmqshell.py:541\u001b[0m, in \u001b[0;36mZMQInteractiveShell._showtraceback\u001b[1;34m(self, etype, evalue, stb)\u001b[0m\n\u001b[0;32m    535\u001b[0m sys\u001b[38;5;241m.\u001b[39mstdout\u001b[38;5;241m.\u001b[39mflush()\n\u001b[0;32m    536\u001b[0m sys\u001b[38;5;241m.\u001b[39mstderr\u001b[38;5;241m.\u001b[39mflush()\n\u001b[0;32m    538\u001b[0m exc_content \u001b[38;5;241m=\u001b[39m {\n\u001b[0;32m    539\u001b[0m     \u001b[38;5;124m\"\u001b[39m\u001b[38;5;124mtraceback\u001b[39m\u001b[38;5;124m\"\u001b[39m: stb,\n\u001b[0;32m    540\u001b[0m     \u001b[38;5;124m\"\u001b[39m\u001b[38;5;124mename\u001b[39m\u001b[38;5;124m\"\u001b[39m: \u001b[38;5;28mstr\u001b[39m(etype\u001b[38;5;241m.\u001b[39m\u001b[38;5;18m__name__\u001b[39m),\n\u001b[1;32m--> 541\u001b[0m     \u001b[38;5;124m\"\u001b[39m\u001b[38;5;124mevalue\u001b[39m\u001b[38;5;124m\"\u001b[39m: \u001b[38;5;28;43mstr\u001b[39;49m\u001b[43m(\u001b[49m\u001b[43mevalue\u001b[49m\u001b[43m)\u001b[49m,\n\u001b[0;32m    542\u001b[0m }\n\u001b[0;32m    544\u001b[0m dh \u001b[38;5;241m=\u001b[39m \u001b[38;5;28mself\u001b[39m\u001b[38;5;241m.\u001b[39mdisplayhook\n\u001b[0;32m    545\u001b[0m \u001b[38;5;66;03m# Send exception info over pub socket for other clients than the caller\u001b[39;00m\n\u001b[0;32m    546\u001b[0m \u001b[38;5;66;03m# to pick up\u001b[39;00m\n",
      "File \u001b[1;32m~\\miniconda3\\envs\\gru_torch\\lib\\site-packages\\py4j\\protocol.py:471\u001b[0m, in \u001b[0;36mPy4JJavaError.__str__\u001b[1;34m(self)\u001b[0m\n\u001b[0;32m    469\u001b[0m \u001b[38;5;28;01mdef\u001b[39;00m \u001b[38;5;21m__str__\u001b[39m(\u001b[38;5;28mself\u001b[39m):\n\u001b[0;32m    470\u001b[0m     gateway_client \u001b[38;5;241m=\u001b[39m \u001b[38;5;28mself\u001b[39m\u001b[38;5;241m.\u001b[39mjava_exception\u001b[38;5;241m.\u001b[39m_gateway_client\n\u001b[1;32m--> 471\u001b[0m     answer \u001b[38;5;241m=\u001b[39m \u001b[43mgateway_client\u001b[49m\u001b[38;5;241;43m.\u001b[39;49m\u001b[43msend_command\u001b[49m\u001b[43m(\u001b[49m\u001b[38;5;28;43mself\u001b[39;49m\u001b[38;5;241;43m.\u001b[39;49m\u001b[43mexception_cmd\u001b[49m\u001b[43m)\u001b[49m\n\u001b[0;32m    472\u001b[0m     return_value \u001b[38;5;241m=\u001b[39m get_return_value(answer, gateway_client, \u001b[38;5;28;01mNone\u001b[39;00m, \u001b[38;5;28;01mNone\u001b[39;00m)\n\u001b[0;32m    473\u001b[0m     \u001b[38;5;66;03m# Note: technically this should return a bytestring 'str' rather than\u001b[39;00m\n\u001b[0;32m    474\u001b[0m     \u001b[38;5;66;03m# unicodes in Python 2; however, it can return unicodes for now.\u001b[39;00m\n\u001b[0;32m    475\u001b[0m     \u001b[38;5;66;03m# See https://github.com/bartdag/py4j/issues/306 for more details.\u001b[39;00m\n",
      "File \u001b[1;32m~\\miniconda3\\envs\\gru_torch\\lib\\site-packages\\py4j\\java_gateway.py:1036\u001b[0m, in \u001b[0;36mGatewayClient.send_command\u001b[1;34m(self, command, retry, binary)\u001b[0m\n\u001b[0;32m   1015\u001b[0m \u001b[38;5;28;01mdef\u001b[39;00m \u001b[38;5;21msend_command\u001b[39m(\u001b[38;5;28mself\u001b[39m, command, retry\u001b[38;5;241m=\u001b[39m\u001b[38;5;28;01mTrue\u001b[39;00m, binary\u001b[38;5;241m=\u001b[39m\u001b[38;5;28;01mFalse\u001b[39;00m):\n\u001b[0;32m   1016\u001b[0m     \u001b[38;5;124;03m\"\"\"Sends a command to the JVM. This method is not intended to be\u001b[39;00m\n\u001b[0;32m   1017\u001b[0m \u001b[38;5;124;03m       called directly by Py4J users. It is usually called by\u001b[39;00m\n\u001b[0;32m   1018\u001b[0m \u001b[38;5;124;03m       :class:`JavaMember` instances.\u001b[39;00m\n\u001b[1;32m   (...)\u001b[0m\n\u001b[0;32m   1034\u001b[0m \u001b[38;5;124;03m     if `binary` is `True`.\u001b[39;00m\n\u001b[0;32m   1035\u001b[0m \u001b[38;5;124;03m    \"\"\"\u001b[39;00m\n\u001b[1;32m-> 1036\u001b[0m     connection \u001b[38;5;241m=\u001b[39m \u001b[38;5;28;43mself\u001b[39;49m\u001b[38;5;241;43m.\u001b[39;49m\u001b[43m_get_connection\u001b[49m\u001b[43m(\u001b[49m\u001b[43m)\u001b[49m\n\u001b[0;32m   1037\u001b[0m     \u001b[38;5;28;01mtry\u001b[39;00m:\n\u001b[0;32m   1038\u001b[0m         response \u001b[38;5;241m=\u001b[39m connection\u001b[38;5;241m.\u001b[39msend_command(command)\n",
      "File \u001b[1;32m~\\miniconda3\\envs\\gru_torch\\lib\\site-packages\\py4j\\clientserver.py:281\u001b[0m, in \u001b[0;36mJavaClient._get_connection\u001b[1;34m(self)\u001b[0m\n\u001b[0;32m    278\u001b[0m     \u001b[38;5;28;01mpass\u001b[39;00m\n\u001b[0;32m    280\u001b[0m \u001b[38;5;28;01mif\u001b[39;00m connection \u001b[38;5;129;01mis\u001b[39;00m \u001b[38;5;28;01mNone\u001b[39;00m \u001b[38;5;129;01mor\u001b[39;00m connection\u001b[38;5;241m.\u001b[39msocket \u001b[38;5;129;01mis\u001b[39;00m \u001b[38;5;28;01mNone\u001b[39;00m:\n\u001b[1;32m--> 281\u001b[0m     connection \u001b[38;5;241m=\u001b[39m \u001b[38;5;28;43mself\u001b[39;49m\u001b[38;5;241;43m.\u001b[39;49m\u001b[43m_create_new_connection\u001b[49m\u001b[43m(\u001b[49m\u001b[43m)\u001b[49m\n\u001b[0;32m    282\u001b[0m \u001b[38;5;28;01mreturn\u001b[39;00m connection\n",
      "File \u001b[1;32m~\\miniconda3\\envs\\gru_torch\\lib\\site-packages\\py4j\\clientserver.py:288\u001b[0m, in \u001b[0;36mJavaClient._create_new_connection\u001b[1;34m(self)\u001b[0m\n\u001b[0;32m    284\u001b[0m \u001b[38;5;28;01mdef\u001b[39;00m \u001b[38;5;21m_create_new_connection\u001b[39m(\u001b[38;5;28mself\u001b[39m):\n\u001b[0;32m    285\u001b[0m     connection \u001b[38;5;241m=\u001b[39m ClientServerConnection(\n\u001b[0;32m    286\u001b[0m         \u001b[38;5;28mself\u001b[39m\u001b[38;5;241m.\u001b[39mjava_parameters, \u001b[38;5;28mself\u001b[39m\u001b[38;5;241m.\u001b[39mpython_parameters,\n\u001b[0;32m    287\u001b[0m         \u001b[38;5;28mself\u001b[39m\u001b[38;5;241m.\u001b[39mgateway_property, \u001b[38;5;28mself\u001b[39m)\n\u001b[1;32m--> 288\u001b[0m     \u001b[43mconnection\u001b[49m\u001b[38;5;241;43m.\u001b[39;49m\u001b[43mconnect_to_java_server\u001b[49m\u001b[43m(\u001b[49m\u001b[43m)\u001b[49m\n\u001b[0;32m    289\u001b[0m     \u001b[38;5;28mself\u001b[39m\u001b[38;5;241m.\u001b[39mset_thread_connection(connection)\n\u001b[0;32m    290\u001b[0m     \u001b[38;5;28;01mreturn\u001b[39;00m connection\n",
      "File \u001b[1;32m~\\miniconda3\\envs\\gru_torch\\lib\\site-packages\\py4j\\clientserver.py:402\u001b[0m, in \u001b[0;36mClientServerConnection.connect_to_java_server\u001b[1;34m(self)\u001b[0m\n\u001b[0;32m    399\u001b[0m \u001b[38;5;28;01mif\u001b[39;00m \u001b[38;5;28mself\u001b[39m\u001b[38;5;241m.\u001b[39mssl_context:\n\u001b[0;32m    400\u001b[0m     \u001b[38;5;28mself\u001b[39m\u001b[38;5;241m.\u001b[39msocket \u001b[38;5;241m=\u001b[39m \u001b[38;5;28mself\u001b[39m\u001b[38;5;241m.\u001b[39mssl_context\u001b[38;5;241m.\u001b[39mwrap_socket(\n\u001b[0;32m    401\u001b[0m         \u001b[38;5;28mself\u001b[39m\u001b[38;5;241m.\u001b[39msocket, server_hostname\u001b[38;5;241m=\u001b[39m\u001b[38;5;28mself\u001b[39m\u001b[38;5;241m.\u001b[39mjava_address)\n\u001b[1;32m--> 402\u001b[0m \u001b[38;5;28;43mself\u001b[39;49m\u001b[38;5;241;43m.\u001b[39;49m\u001b[43msocket\u001b[49m\u001b[38;5;241;43m.\u001b[39;49m\u001b[43mconnect\u001b[49m\u001b[43m(\u001b[49m\u001b[43m(\u001b[49m\u001b[38;5;28;43mself\u001b[39;49m\u001b[38;5;241;43m.\u001b[39;49m\u001b[43mjava_address\u001b[49m\u001b[43m,\u001b[49m\u001b[43m \u001b[49m\u001b[38;5;28;43mself\u001b[39;49m\u001b[38;5;241;43m.\u001b[39;49m\u001b[43mjava_port\u001b[49m\u001b[43m)\u001b[49m\u001b[43m)\u001b[49m\n\u001b[0;32m    403\u001b[0m \u001b[38;5;28mself\u001b[39m\u001b[38;5;241m.\u001b[39mstream \u001b[38;5;241m=\u001b[39m \u001b[38;5;28mself\u001b[39m\u001b[38;5;241m.\u001b[39msocket\u001b[38;5;241m.\u001b[39mmakefile(\u001b[38;5;124m\"\u001b[39m\u001b[38;5;124mrb\u001b[39m\u001b[38;5;124m\"\u001b[39m)\n\u001b[0;32m    404\u001b[0m \u001b[38;5;28mself\u001b[39m\u001b[38;5;241m.\u001b[39mis_connected \u001b[38;5;241m=\u001b[39m \u001b[38;5;28;01mTrue\u001b[39;00m\n",
      "\u001b[1;31mConnectionRefusedError\u001b[0m: [WinError 10061] Подключение не установлено, т.к. конечный компьютер отверг запрос на подключение"
     ]
    }
   ],
   "source": [
    "lrModel = LogisticRegression(featuresCol='features', labelCol='target', predictionCol='prediction',\n",
    "                        maxIter=10, probabilityCol='proba')\n",
    "\n",
    "lrModel = lrModel.fit(test)"
   ]
  },
  {
   "cell_type": "code",
   "execution_count": 4,
   "id": "e6d964c0",
   "metadata": {},
   "outputs": [
    {
     "name": "stdout",
     "output_type": "stream",
     "text": [
      ">>> Model parameters:\n"
     ]
    },
    {
     "ename": "NameError",
     "evalue": "name 'lrModel' is not defined",
     "output_type": "error",
     "traceback": [
      "\u001b[1;31m---------------------------------------------------------------------------\u001b[0m",
      "\u001b[1;31mNameError\u001b[0m                                 Traceback (most recent call last)",
      "Cell \u001b[1;32mIn[4], line 2\u001b[0m\n\u001b[0;32m      1\u001b[0m \u001b[38;5;28mprint\u001b[39m(\u001b[38;5;124m\"\u001b[39m\u001b[38;5;124m>>> Model parameters:\u001b[39m\u001b[38;5;124m\"\u001b[39m)\n\u001b[1;32m----> 2\u001b[0m \u001b[38;5;28mprint\u001b[39m(\u001b[38;5;124m\"\u001b[39m\u001b[38;5;124m>>> Coefficients: \u001b[39m\u001b[38;5;124m\"\u001b[39m \u001b[38;5;241m+\u001b[39m \u001b[38;5;28mstr\u001b[39m(\u001b[43mlrModel\u001b[49m\u001b[38;5;241m.\u001b[39mcoefficients))\n\u001b[0;32m      3\u001b[0m \u001b[38;5;28mprint\u001b[39m(\u001b[38;5;124m\"\u001b[39m\u001b[38;5;124m>>> Intercept: \u001b[39m\u001b[38;5;124m\"\u001b[39m \u001b[38;5;241m+\u001b[39m \u001b[38;5;28mstr\u001b[39m(lrModel\u001b[38;5;241m.\u001b[39mintercept))\n\u001b[0;32m      4\u001b[0m \u001b[38;5;28mprint\u001b[39m(\u001b[38;5;124mf\u001b[39m\u001b[38;5;124m'\u001b[39m\u001b[38;5;124m>>> ROC_AUC = \u001b[39m\u001b[38;5;132;01m{\u001b[39;00mlrModel\u001b[38;5;241m.\u001b[39msummary\u001b[38;5;241m.\u001b[39mareaUnderROC\u001b[38;5;132;01m}\u001b[39;00m\u001b[38;5;124m'\u001b[39m)\n",
      "\u001b[1;31mNameError\u001b[0m: name 'lrModel' is not defined"
     ]
    }
   ],
   "source": [
    "print(\">>> Model parameters:\")\n",
    "print(\">>> Coefficients: \" + str(lrModel.coefficients))\n",
    "print(\">>> Intercept: \" + str(lrModel.intercept))\n",
    "print(f'>>> ROC_AUC = {lrModel.summary.areaUnderROC}')"
   ]
  },
  {
   "cell_type": "code",
   "execution_count": null,
   "id": "09565532",
   "metadata": {},
   "outputs": [],
   "source": [
    "# ROC curve\n",
    "roc = trainingSummary.roc.toPandas()\n",
    "plt.plot(roc['FPR'],roc['TPR'])\n",
    "plt.ylabel('False Positive Rate')\n",
    "plt.xlabel('True Positive Rate')\n",
    "plt.title('ROC Curve')\n",
    "plt.show()\n",
    "print('Training set areaUnderROC: ' + str(trainingSummary.areaUnderROC))"
   ]
  },
  {
   "cell_type": "code",
   "execution_count": null,
   "id": "60f90d8b",
   "metadata": {},
   "outputs": [],
   "source": [
    "# precision-recall curve\n",
    "pr = trainingSummary.pr.toPandas()\n",
    "plt.plot(pr['recall'],pr['precision'])\n",
    "plt.ylabel('Precision')\n",
    "plt.xlabel('Recall')\n",
    "plt.show()"
   ]
  },
  {
   "cell_type": "code",
   "execution_count": null,
   "id": "b503d71f",
   "metadata": {},
   "outputs": [],
   "source": []
  },
  {
   "cell_type": "code",
   "execution_count": null,
   "id": "33a55bca",
   "metadata": {},
   "outputs": [],
   "source": []
  },
  {
   "cell_type": "code",
   "execution_count": null,
   "id": "5384e33f",
   "metadata": {},
   "outputs": [],
   "source": []
  },
  {
   "cell_type": "markdown",
   "id": "d22c7133",
   "metadata": {},
   "source": [
    "## Проверять отсюда"
   ]
  },
  {
   "cell_type": "code",
   "execution_count": 3,
   "id": "b7c07270",
   "metadata": {},
   "outputs": [],
   "source": [
    "# preprocess pipeline\n",
    "\n",
    "# ---------\n",
    "# read data\n",
    "data = spark.read.csv('Train_Set_90621.csv', header=True, inferSchema=True)\n",
    "data = data.drop('Amount Defaulted').withColumnRenamed('Default_Status', 'target')\n",
    "\n",
    "# --------------------------------\n",
    "# process Nan and small categories\n",
    "data = data.fillna({'Bank Masked': 'Other', \n",
    "                    'Bank Type': 'Private', \n",
    "                    'Business Owner State': 'Delhi', \n",
    "                    'New Business': 1,\n",
    "                    'BankState': 'Delhi',\n",
    "                    'Carry-forward Credit': 'N',\n",
    "                    'Documents Provided': 'N'})\\\n",
    "            .withColumn(\"BankState\", when(col('BankState') == 0, 'Delhi').otherwise(col('BankState')))\\\n",
    "            .withColumn(\"New Business\", when(col('New Business') == 0, 2).otherwise(col('New Business')))\n",
    "\n",
    "# ---------------------\n",
    "# drop na for some cols\n",
    "drop_na_cols = ['Approved_Timestamp', 'Name Masked']\n",
    "data = data.dropna(subset=drop_na_cols)\n",
    "\n",
    "# ----------------------------------\n",
    "# fill na with mean for numeric cols\n",
    "fill_mean_cols = ['Expected Company Income']\n",
    "imputer = Imputer(inputCols=fill_mean_cols, outputCols=fill_mean_cols, strategy='mean')\n",
    "imputer = imputer.fit(data)\n",
    "data = imputer.transform(data)\n",
    "\n",
    "# -----------------------------\n",
    "# create sin/col cols from date\n",
    "data = data.withColumn('Approved_Timestamp', F.to_date(col(\"Approved_Timestamp\"),\"dd-MM-yyyy\"))\\\n",
    "    .withColumn('Approved_year', F.year('Approved_Timestamp'))\\\n",
    "    .withColumn('Approved_month', F.month('Approved_Timestamp'))\\\n",
    "    .withColumn('Approved_dayofmonth', F.dayofmonth('Approved_Timestamp'))\\\n",
    "    .withColumn('Approved_dayofweek', F.dayofweek('Approved_Timestamp'))\\\n",
    "    .withColumn('cos_approved_month', F.cos(F.col('Approved_month') * 2 * np.pi / 12.))\\\n",
    "    .withColumn('sin_approved_month', F.sin(F.col('Approved_month') * 2 * np.pi / 12.))\\\n",
    "    .withColumn('cos_approved_dayofmonth', F.cos(F.col('Approved_dayofmonth') * 2 * np.pi / 31.))\\\n",
    "    .withColumn('sin_approved_dayofmonth', F.sin(F.col('Approved_dayofmonth') * 2 * np.pi / 31.))\\\n",
    "    .withColumn('cos_approved_dayofweek', F.cos(F.col('Approved_dayofweek') * 2 * np.pi / 7.))\\\n",
    "    .withColumn('sin_approved_dayofweek', F.sin(F.col('Approved_dayofweek') * 2 * np.pi / 7.))\n",
    "\n",
    "# ----------------------\n",
    "# category cols to index\n",
    "index_cols = ['Bank Masked', 'Bank Type', 'Name Masked', \n",
    "              'Business Owner State', 'Business_Industry_Type_Code', 'New Business', \n",
    "              'BankState', 'Company Branch Code', 'City or Rural',\n",
    "              'Carry-forward Credit', 'Documents Provided']\n",
    "\n",
    "res_index_cols = [col.replace(\" \", \"_\")+'_index' for col in index_cols]\n",
    "vect_columns = [col[:-6]+'_vec' for col in res_index_cols]\n",
    "\n",
    "Bank_Masked_index = StringIndexer(inputCol = 'Bank Masked', outputCol = 'Bank_Masked_index', handleInvalid='keep')\n",
    "Bank_Type_index = StringIndexer(inputCol = 'Bank Type', outputCol = 'Bank_Type_index', handleInvalid='keep')\n",
    "Name_Masked_index = StringIndexer(inputCol = 'Name Masked', outputCol = 'Name_Masked_index', handleInvalid='keep')\n",
    "Business_Owner_State_index = StringIndexer(inputCol = 'Business Owner State', outputCol = 'Business_Owner_State_index', handleInvalid='keep')\n",
    "Business_Industry_Type_Code_index = StringIndexer(inputCol = 'Business_Industry_Type_Code', outputCol = 'Business_Industry_Type_Code_index', handleInvalid='keep')\n",
    "New_Business_index = StringIndexer(inputCol = 'New Business', outputCol = 'New_Business_index', handleInvalid='keep')\n",
    "BankState_index = StringIndexer(inputCol = 'BankState', outputCol = 'BankState_index', handleInvalid='keep')\n",
    "Company_Branch_Code_index = StringIndexer(inputCol = 'Company Branch Code', outputCol = 'Company_Branch_Code_index', handleInvalid='keep')\n",
    "City_or_Rural_index = StringIndexer(inputCol = 'City or Rural', outputCol = 'City_or_Rural_index', handleInvalid='keep')\n",
    "Carry_forward_Credit_index = StringIndexer(inputCol = 'Carry-forward Credit', outputCol = 'Carry-forward_Credit_index', handleInvalid='keep')\n",
    "Documents_Provided_index = StringIndexer(inputCol = 'Documents Provided', outputCol = 'Documents_Provided_index', handleInvalid='keep')\n",
    "\n",
    "# indexer_dict = {}\n",
    "# for column in index_cols:\n",
    "#     new_name = column.replace(\" \", \"_\")+'_index'\n",
    "# #     print(f\"{column}, {new_name}\")\n",
    "#     indexer = StringIndexer(inputCol = column, outputCol = new_name)\n",
    "#     indexer = indexer.fit(data)\n",
    "#     data = indexer.transform(data)\n",
    "#     indexer_dict[new_name] = indexer\n",
    "\n",
    "# ------------\n",
    "# ohe encoding\n",
    "# vect_columns = [col[:-6]+'_vec' for col in list(indexer_dict.keys())]\n",
    "ohe_encoder = OneHotEncoder(inputCols = res_index_cols,\n",
    "                        outputCols = vect_columns)\n",
    "# ohe_encoder = ohe_encoder.fit(data)\n",
    "# data = ohe_encoder.transform(data)\n",
    "\n",
    "# ----------------------------------\n",
    "# assemble features in vector format\n",
    "feature_columns = ['Approved_year', 'Term', 'Interest Rate', 'Employees', 'Gross Disbursed Amount', \n",
    "                   'Term_years', 'Jobs Retained', 'Male to Female Employees Ratio', 'Expected Company Income', \n",
    "                   'Funds available with company', 'Gross_Apprv_Amount', 'Jobs Generated', 'Balance Left', 'Final_Appved_Amount']\\\n",
    "                    + ['cos_approved_month', 'sin_approved_month', \n",
    "                       'cos_approved_dayofmonth', 'sin_approved_dayofmonth', \n",
    "                       'cos_approved_dayofweek', 'sin_approved_dayofweek']\\\n",
    "                    + vect_columns\n",
    "\n",
    "vector_assembler = VectorAssembler(inputCols = feature_columns, outputCol = 'features')\n",
    "\n",
    "rfModel = RandomForestClassifier(featuresCol = 'features', labelCol = 'target', predictionCol='prediction',probabilityCol='proba', \n",
    "                                  numTrees=10,  maxDepth=7, seed=145795, subsamplingRate=0.5)\n",
    "\n",
    "# data = df_va.transform(data)\n",
    "\n"
   ]
  },
  {
   "cell_type": "code",
   "execution_count": null,
   "id": "f52dbe6c",
   "metadata": {},
   "outputs": [],
   "source": [
    "pipeline = Pipeline(stages=[\n",
    "                            Bank_Masked_index,\n",
    "                            Bank_Type_index,\n",
    "                            Name_Masked_index,\n",
    "                            Business_Owner_State_index,\n",
    "                            Business_Industry_Type_Code_index,\n",
    "                            New_Business_index,\n",
    "                            BankState_index,\n",
    "                            Company_Branch_Code_index,\n",
    "                            City_or_Rural_index,\n",
    "                            Carry_forward_Credit_index,\n",
    "                            Documents_Provided_index,\n",
    "                            ohe_encoder,\n",
    "                            vector_assembler,\n",
    "                            rfModel\n",
    "])\n",
    "\n",
    "paramGrid = ParamGridBuilder()\\\n",
    "    .addGrid(rfModel.maxDepth, [5, 3]) \\\n",
    "    .build()\n",
    "\n",
    "tvs = TrainValidationSplit(estimator=pipeline,\n",
    "                           estimatorParamMaps=paramGrid,\n",
    "                           evaluator=BinaryClassificationEvaluator(rawPredictionCol='prediction',\n",
    "                                                                  labelCol='target', metricName='areaUnderROC'),\n",
    "                           # 80% of the data will be used for training, 20% for validation.\n",
    "                           trainRatio=0.7)\n",
    "\n",
    "train, test = data.randomSplit([0.7, 0.3], seed=135468)\n",
    "\n",
    "model = tvs.fit(train)\n",
    "\n",
    "rf_test_pred = model.transform(test)\n",
    "\n",
    "rf_evaluator = BinaryClassificationEvaluator(rawPredictionCol='prediction', labelCol = 'target')\n",
    "print(\"Test Area Under ROC: \" + str(rf_evaluator.evaluate(rf_test_pred, {rf_evaluator.metricName: \"areaUnderROC\"})))"
   ]
  },
  {
   "cell_type": "code",
   "execution_count": null,
   "id": "3a2685d4",
   "metadata": {},
   "outputs": [],
   "source": [
    "tvs.write().save('model')"
   ]
  },
  {
   "cell_type": "code",
   "execution_count": null,
   "id": "b7a235f8",
   "metadata": {},
   "outputs": [],
   "source": []
  }
 ],
 "metadata": {
  "kernelspec": {
   "display_name": "Python 3 (ipykernel)",
   "language": "python",
   "name": "python3"
  },
  "language_info": {
   "codemirror_mode": {
    "name": "ipython",
    "version": 3
   },
   "file_extension": ".py",
   "mimetype": "text/x-python",
   "name": "python",
   "nbconvert_exporter": "python",
   "pygments_lexer": "ipython3",
   "version": "3.10.9"
  }
 },
 "nbformat": 4,
 "nbformat_minor": 5
}
